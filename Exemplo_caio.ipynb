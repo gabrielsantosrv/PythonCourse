{
 "cells": [
  {
   "cell_type": "code",
   "execution_count": 23,
   "metadata": {},
   "outputs": [],
   "source": [
    "from pathlib import Path\n",
    "import sys\n",
    "import os\n",
    "#configura a origem do projeto no diretório raiz\n",
    "sys.path.append(str(Path('').absolute().parent))\n",
    "\n",
    "import pandas as pd\n",
    "import matplotlib.pyplot as plt\n",
    "import numpy as np\n",
    "\n",
    "import tweetlib.utils as utils\n",
    "from tweetlib.influencer import Influencer"
   ]
  },
  {
   "cell_type": "markdown",
   "metadata": {},
   "source": [
    "### Tópico 0: conceitos básicos"
   ]
  },
  {
   "cell_type": "markdown",
   "metadata": {},
   "source": [
    "#### métodos & funções"
   ]
  },
  {
   "cell_type": "code",
   "execution_count": 24,
   "metadata": {},
   "outputs": [],
   "source": [
    "def write(params):\n",
    "    print(params)\n",
    "    \n",
    "def add(a, b):\n",
    "    return a+b"
   ]
  },
  {
   "cell_type": "code",
   "execution_count": 25,
   "metadata": {},
   "outputs": [
    {
     "name": "stdout",
     "output_type": "stream",
     "text": [
      "Hellow World!\n"
     ]
    }
   ],
   "source": [
    "write('Hellow World!')"
   ]
  },
  {
   "cell_type": "code",
   "execution_count": 26,
   "metadata": {
    "scrolled": true
   },
   "outputs": [
    {
     "data": {
      "text/plain": [
       "5"
      ]
     },
     "execution_count": 26,
     "metadata": {},
     "output_type": "execute_result"
    }
   ],
   "source": [
    "add(2, 3)"
   ]
  },
  {
   "cell_type": "markdown",
   "metadata": {},
   "source": [
    "#### listas"
   ]
  },
  {
   "cell_type": "code",
   "execution_count": 27,
   "metadata": {},
   "outputs": [
    {
     "name": "stdout",
     "output_type": "stream",
     "text": [
      "[1, 2, 'a', 3, 4, 5]\n",
      "[1, 2, 3, 4, 5]\n"
     ]
    }
   ],
   "source": [
    "list1 = [1,2,'a',3,4,5]\n",
    "list2 = list(range(1,6))\n",
    "print(list1)\n",
    "print(list2)"
   ]
  },
  {
   "cell_type": "code",
   "execution_count": 28,
   "metadata": {},
   "outputs": [
    {
     "data": {
      "text/plain": [
       "[1, 2, 3, 4, 5, 15]"
      ]
     },
     "execution_count": 28,
     "metadata": {},
     "output_type": "execute_result"
    }
   ],
   "source": [
    "list2.append(15)\n",
    "list2"
   ]
  },
  {
   "cell_type": "code",
   "execution_count": 29,
   "metadata": {},
   "outputs": [
    {
     "data": {
      "text/plain": [
       "[1, 7, 3, 4, 5, 15]"
      ]
     },
     "execution_count": 29,
     "metadata": {},
     "output_type": "execute_result"
    }
   ],
   "source": [
    "list2[1] = 7\n",
    "list2"
   ]
  },
  {
   "cell_type": "markdown",
   "metadata": {},
   "source": [
    "#### tuplas"
   ]
  },
  {
   "cell_type": "code",
   "execution_count": 30,
   "metadata": {},
   "outputs": [
    {
     "name": "stdout",
     "output_type": "stream",
     "text": [
      "(1, 2, 3)\n",
      "(1, 2, 3)\n"
     ]
    }
   ],
   "source": [
    "tuple1 = (1,2,3)\n",
    "tuple2 = tuple([1,2,3])\n",
    "print(tuple1)\n",
    "print(tuple2)"
   ]
  },
  {
   "cell_type": "markdown",
   "metadata": {},
   "source": [
    "#### conjuntos"
   ]
  },
  {
   "cell_type": "code",
   "execution_count": 31,
   "metadata": {},
   "outputs": [
    {
     "name": "stdout",
     "output_type": "stream",
     "text": [
      "{1, 2, 3, 4}\n",
      "{1, 2, 3, 4}\n"
     ]
    }
   ],
   "source": [
    "set1 = {1,2,3,4}\n",
    "set2 = set([1,2,1,3,4,2,1])\n",
    "print(set1)\n",
    "print(set2)"
   ]
  },
  {
   "cell_type": "markdown",
   "metadata": {},
   "source": [
    "#### dicionários"
   ]
  },
  {
   "cell_type": "code",
   "execution_count": 32,
   "metadata": {},
   "outputs": [
    {
     "name": "stdout",
     "output_type": "stream",
     "text": [
      "{'key1': 1, 'key2': 2}\n"
     ]
    }
   ],
   "source": [
    "dict1 = {'key1':1, 'key2':2}\n",
    "print(dict1)"
   ]
  },
  {
   "cell_type": "code",
   "execution_count": 33,
   "metadata": {},
   "outputs": [
    {
     "data": {
      "text/plain": [
       "1"
      ]
     },
     "execution_count": 33,
     "metadata": {},
     "output_type": "execute_result"
    }
   ],
   "source": [
    "dict1['key1']"
   ]
  },
  {
   "cell_type": "code",
   "execution_count": 34,
   "metadata": {},
   "outputs": [
    {
     "name": "stdout",
     "output_type": "stream",
     "text": [
      "10\n"
     ]
    }
   ],
   "source": [
    "dict1['key3'] = 10\n",
    "\n",
    "if dict1.get('key3') is not None:\n",
    "    print(dict1['key3'])\n",
    "    "
   ]
  },
  {
   "cell_type": "markdown",
   "metadata": {},
   "source": [
    "Lê o arquivo ``B3_companies.csv`` que contém informações sobre as empresas negociadas na bolsa"
   ]
  },
  {
   "cell_type": "code",
   "execution_count": 35,
   "metadata": {
    "scrolled": true
   },
   "outputs": [
    {
     "data": {
      "text/html": [
       "<div>\n",
       "<style scoped>\n",
       "    .dataframe tbody tr th:only-of-type {\n",
       "        vertical-align: middle;\n",
       "    }\n",
       "\n",
       "    .dataframe tbody tr th {\n",
       "        vertical-align: top;\n",
       "    }\n",
       "\n",
       "    .dataframe thead th {\n",
       "        text-align: right;\n",
       "    }\n",
       "</style>\n",
       "<table border=\"1\" class=\"dataframe\">\n",
       "  <thead>\n",
       "    <tr style=\"text-align: right;\">\n",
       "      <th></th>\n",
       "      <th>SETOR ECONÔMICO</th>\n",
       "      <th>SUBSETOR</th>\n",
       "      <th>SEGMENTO</th>\n",
       "      <th>NOME DA EMPRESA</th>\n",
       "      <th>CÓDIGO</th>\n",
       "    </tr>\n",
       "  </thead>\n",
       "  <tbody>\n",
       "    <tr>\n",
       "      <th>0</th>\n",
       "      <td>Petróleo, Gás e Biocombustíveis</td>\n",
       "      <td>Petróleo, Gás e Biocombustíveis</td>\n",
       "      <td>Exploração, Refino e Distribuição</td>\n",
       "      <td>COSAN</td>\n",
       "      <td>CSAN</td>\n",
       "    </tr>\n",
       "    <tr>\n",
       "      <th>1</th>\n",
       "      <td>Petróleo, Gás e Biocombustíveis</td>\n",
       "      <td>Petróleo, Gás e Biocombustíveis</td>\n",
       "      <td>Exploração, Refino e Distribuição</td>\n",
       "      <td>DOMMO</td>\n",
       "      <td>DMMO</td>\n",
       "    </tr>\n",
       "    <tr>\n",
       "      <th>2</th>\n",
       "      <td>Petróleo, Gás e Biocombustíveis</td>\n",
       "      <td>Petróleo, Gás e Biocombustíveis</td>\n",
       "      <td>Exploração, Refino e Distribuição</td>\n",
       "      <td>ENAUTA PART|ENAUTA</td>\n",
       "      <td>ENAT</td>\n",
       "    </tr>\n",
       "    <tr>\n",
       "      <th>3</th>\n",
       "      <td>Petróleo, Gás e Biocombustíveis</td>\n",
       "      <td>Petróleo, Gás e Biocombustíveis</td>\n",
       "      <td>Exploração, Refino e Distribuição</td>\n",
       "      <td>PET MANGUINH</td>\n",
       "      <td>RPMG</td>\n",
       "    </tr>\n",
       "    <tr>\n",
       "      <th>4</th>\n",
       "      <td>Petróleo, Gás e Biocombustíveis</td>\n",
       "      <td>Petróleo, Gás e Biocombustíveis</td>\n",
       "      <td>Exploração, Refino e Distribuição</td>\n",
       "      <td>PETROBRAS|PETROBRÁS</td>\n",
       "      <td>PETR</td>\n",
       "    </tr>\n",
       "    <tr>\n",
       "      <th>...</th>\n",
       "      <td>...</td>\n",
       "      <td>...</td>\n",
       "      <td>...</td>\n",
       "      <td>...</td>\n",
       "      <td>...</td>\n",
       "    </tr>\n",
       "    <tr>\n",
       "      <th>418</th>\n",
       "      <td>Outros</td>\n",
       "      <td>Outros</td>\n",
       "      <td>Outros</td>\n",
       "      <td>POLPAR</td>\n",
       "      <td>PPAR</td>\n",
       "    </tr>\n",
       "    <tr>\n",
       "      <th>419</th>\n",
       "      <td>Outros</td>\n",
       "      <td>Outros</td>\n",
       "      <td>Outros</td>\n",
       "      <td>PROMPT PART</td>\n",
       "      <td>PRPT</td>\n",
       "    </tr>\n",
       "    <tr>\n",
       "      <th>420</th>\n",
       "      <td>Outros</td>\n",
       "      <td>Outros</td>\n",
       "      <td>Outros</td>\n",
       "      <td>SELECTPART</td>\n",
       "      <td>SLCT</td>\n",
       "    </tr>\n",
       "    <tr>\n",
       "      <th>421</th>\n",
       "      <td>Outros</td>\n",
       "      <td>Outros</td>\n",
       "      <td>Outros</td>\n",
       "      <td>SUDESTE S/A</td>\n",
       "      <td>OPSE</td>\n",
       "    </tr>\n",
       "    <tr>\n",
       "      <th>422</th>\n",
       "      <td>Outros</td>\n",
       "      <td>Outros</td>\n",
       "      <td>Outros</td>\n",
       "      <td>SUL 116 PART</td>\n",
       "      <td>OPTS</td>\n",
       "    </tr>\n",
       "  </tbody>\n",
       "</table>\n",
       "<p>423 rows × 5 columns</p>\n",
       "</div>"
      ],
      "text/plain": [
       "                     SETOR ECONÔMICO                         SUBSETOR  \\\n",
       "0    Petróleo, Gás e Biocombustíveis  Petróleo, Gás e Biocombustíveis   \n",
       "1    Petróleo, Gás e Biocombustíveis  Petróleo, Gás e Biocombustíveis   \n",
       "2    Petróleo, Gás e Biocombustíveis  Petróleo, Gás e Biocombustíveis   \n",
       "3    Petróleo, Gás e Biocombustíveis  Petróleo, Gás e Biocombustíveis   \n",
       "4    Petróleo, Gás e Biocombustíveis  Petróleo, Gás e Biocombustíveis   \n",
       "..                               ...                              ...   \n",
       "418                           Outros                           Outros   \n",
       "419                           Outros                           Outros   \n",
       "420                           Outros                           Outros   \n",
       "421                           Outros                           Outros   \n",
       "422                           Outros                           Outros   \n",
       "\n",
       "                              SEGMENTO      NOME DA EMPRESA CÓDIGO  \n",
       "0    Exploração, Refino e Distribuição                COSAN   CSAN  \n",
       "1    Exploração, Refino e Distribuição                DOMMO   DMMO  \n",
       "2    Exploração, Refino e Distribuição   ENAUTA PART|ENAUTA   ENAT  \n",
       "3    Exploração, Refino e Distribuição         PET MANGUINH   RPMG  \n",
       "4    Exploração, Refino e Distribuição  PETROBRAS|PETROBRÁS   PETR  \n",
       "..                                 ...                  ...    ...  \n",
       "418                             Outros               POLPAR   PPAR  \n",
       "419                             Outros          PROMPT PART   PRPT  \n",
       "420                             Outros           SELECTPART   SLCT  \n",
       "421                             Outros          SUDESTE S/A   OPSE  \n",
       "422                             Outros         SUL 116 PART   OPTS  \n",
       "\n",
       "[423 rows x 5 columns]"
      ]
     },
     "execution_count": 35,
     "metadata": {},
     "output_type": "execute_result"
    }
   ],
   "source": [
    "df_b3_companies = pd.read_csv('./B3_companies.csv')\n",
    "df_b3_companies"
   ]
  },
  {
   "cell_type": "markdown",
   "metadata": {},
   "source": [
    "Lista todos os nomes dos arquivos dentro do diretório ``./influencers``, que se encontra na raiz do projeto"
   ]
  },
  {
   "cell_type": "code",
   "execution_count": 36,
   "metadata": {
    "scrolled": true
   },
   "outputs": [
    {
     "data": {
      "text/plain": [
       "['israel_massa_tweets.csv',\n",
       " 'isabelablima_tweets.csv',\n",
       " 'hbredda_tweets.csv',\n",
       " 'BruceBarbosa88_tweets.csv',\n",
       " 'ativacorretora_tweets.csv',\n",
       " 'sergiosanita_tweets.csv',\n",
       " 'albuquerque_af_tweets.csv',\n",
       " 'GeralNews_tweets.csv',\n",
       " 'WeInvestDigital_tweets.csv',\n",
       " 'tradersclubbr_tweets.csv',\n",
       " 'bernardocorazza_tweets.csv',\n",
       " 'cafecomferri_tweets.csv',\n",
       " 'FilipeVillegas_tweets.csv',\n",
       " 'mycapinvest_tweets.csv',\n",
       " 'FastTrade_cedro_tweets.csv']"
      ]
     },
     "execution_count": 36,
     "metadata": {},
     "output_type": "execute_result"
    }
   ],
   "source": [
    "csv_files = os.listdir('./influencers')\n",
    "csv_files"
   ]
  },
  {
   "cell_type": "code",
   "execution_count": 37,
   "metadata": {},
   "outputs": [
    {
     "data": {
      "text/html": [
       "<div>\n",
       "<style scoped>\n",
       "    .dataframe tbody tr th:only-of-type {\n",
       "        vertical-align: middle;\n",
       "    }\n",
       "\n",
       "    .dataframe tbody tr th {\n",
       "        vertical-align: top;\n",
       "    }\n",
       "\n",
       "    .dataframe thead th {\n",
       "        text-align: right;\n",
       "    }\n",
       "</style>\n",
       "<table border=\"1\" class=\"dataframe\">\n",
       "  <thead>\n",
       "    <tr style=\"text-align: right;\">\n",
       "      <th></th>\n",
       "      <th>id</th>\n",
       "      <th>created_at</th>\n",
       "      <th>text</th>\n",
       "    </tr>\n",
       "  </thead>\n",
       "  <tbody>\n",
       "    <tr>\n",
       "      <th>0</th>\n",
       "      <td>1289283796991279104</td>\n",
       "      <td>2020-07-31 19:36:25</td>\n",
       "      <td>RT @albuquerque_af: Oferta da Vasta 15x book a...</td>\n",
       "    </tr>\n",
       "    <tr>\n",
       "      <th>1</th>\n",
       "      <td>1289281266139803648</td>\n",
       "      <td>2020-07-31 19:26:22</td>\n",
       "      <td>RT @FirstSquawk: MICROSOFT IS SAID TO BE IN TA...</td>\n",
       "    </tr>\n",
       "    <tr>\n",
       "      <th>2</th>\n",
       "      <td>1289245543152066561</td>\n",
       "      <td>2020-07-31 17:04:25</td>\n",
       "      <td>#OOTT | US Baker Hughes Rig Count 31-Jul: 251 ...</td>\n",
       "    </tr>\n",
       "    <tr>\n",
       "      <th>3</th>\n",
       "      <td>1289241511733813248</td>\n",
       "      <td>2020-07-31 16:48:24</td>\n",
       "      <td>RT @politico: The House just approved a massiv...</td>\n",
       "    </tr>\n",
       "    <tr>\n",
       "      <th>4</th>\n",
       "      <td>1289241340593627137</td>\n",
       "      <td>2020-07-31 16:47:43</td>\n",
       "      <td>US HOUSE APPROVES $1.3 TRLN STIMULUS BILL. 217...</td>\n",
       "    </tr>\n",
       "    <tr>\n",
       "      <th>...</th>\n",
       "      <td>...</td>\n",
       "      <td>...</td>\n",
       "      <td>...</td>\n",
       "    </tr>\n",
       "    <tr>\n",
       "      <th>3231</th>\n",
       "      <td>1246065252694773766</td>\n",
       "      <td>2020-04-03 13:21:21</td>\n",
       "      <td>RT @staunovo: #Opec looks into scenario of 10m...</td>\n",
       "    </tr>\n",
       "    <tr>\n",
       "      <th>3232</th>\n",
       "      <td>1246052803803561990</td>\n",
       "      <td>2020-04-03 12:31:53</td>\n",
       "      <td>RT @DeItaOne: US LABOR MAR NONFARM PAYROLLS -7...</td>\n",
       "    </tr>\n",
       "    <tr>\n",
       "      <th>3233</th>\n",
       "      <td>1246050438027399171</td>\n",
       "      <td>2020-04-03 12:22:29</td>\n",
       "      <td>RT @realDonaldTrump: We hit 3M hard today afte...</td>\n",
       "    </tr>\n",
       "    <tr>\n",
       "      <th>3234</th>\n",
       "      <td>1246049930810187777</td>\n",
       "      <td>2020-04-03 12:20:28</td>\n",
       "      <td>RT @DeItaOne: TWITTER UPGRADED TO BUY FROM NEU...</td>\n",
       "    </tr>\n",
       "    <tr>\n",
       "      <th>3235</th>\n",
       "      <td>1246048909329383425</td>\n",
       "      <td>2020-04-03 12:16:25</td>\n",
       "      <td>RT @sergiosanita: 40tão na mira?\\n#BRENT https...</td>\n",
       "    </tr>\n",
       "  </tbody>\n",
       "</table>\n",
       "<p>3236 rows × 3 columns</p>\n",
       "</div>"
      ],
      "text/plain": [
       "                       id           created_at  \\\n",
       "0     1289283796991279104  2020-07-31 19:36:25   \n",
       "1     1289281266139803648  2020-07-31 19:26:22   \n",
       "2     1289245543152066561  2020-07-31 17:04:25   \n",
       "3     1289241511733813248  2020-07-31 16:48:24   \n",
       "4     1289241340593627137  2020-07-31 16:47:43   \n",
       "...                   ...                  ...   \n",
       "3231  1246065252694773766  2020-04-03 13:21:21   \n",
       "3232  1246052803803561990  2020-04-03 12:31:53   \n",
       "3233  1246050438027399171  2020-04-03 12:22:29   \n",
       "3234  1246049930810187777  2020-04-03 12:20:28   \n",
       "3235  1246048909329383425  2020-04-03 12:16:25   \n",
       "\n",
       "                                                   text  \n",
       "0     RT @albuquerque_af: Oferta da Vasta 15x book a...  \n",
       "1     RT @FirstSquawk: MICROSOFT IS SAID TO BE IN TA...  \n",
       "2     #OOTT | US Baker Hughes Rig Count 31-Jul: 251 ...  \n",
       "3     RT @politico: The House just approved a massiv...  \n",
       "4     US HOUSE APPROVES $1.3 TRLN STIMULUS BILL. 217...  \n",
       "...                                                 ...  \n",
       "3231  RT @staunovo: #Opec looks into scenario of 10m...  \n",
       "3232  RT @DeItaOne: US LABOR MAR NONFARM PAYROLLS -7...  \n",
       "3233  RT @realDonaldTrump: We hit 3M hard today afte...  \n",
       "3234  RT @DeItaOne: TWITTER UPGRADED TO BUY FROM NEU...  \n",
       "3235  RT @sergiosanita: 40tão na mira?\\n#BRENT https...  \n",
       "\n",
       "[3236 rows x 3 columns]"
      ]
     },
     "execution_count": 37,
     "metadata": {},
     "output_type": "execute_result"
    }
   ],
   "source": [
    "df = pd.read_csv('./influencers/{}'.format(csv_files[0])) \n",
    "df"
   ]
  },
  {
   "cell_type": "markdown",
   "metadata": {},
   "source": [
    "### Tópico 1: Classes"
   ]
  },
  {
   "cell_type": "markdown",
   "metadata": {},
   "source": [
    "* O método ``Incluencer.filter_tweets`` filtra os tweets de um dado ``pandas.DataFrame``, retornando apenas os tweets que falam de alguma empresa."
   ]
  },
  {
   "cell_type": "code",
   "execution_count": 40,
   "metadata": {},
   "outputs": [
    {
     "name": "stderr",
     "output_type": "stream",
     "text": [
      "/home/gabriel/anaconda3/envs/textlib/lib/python3.6/site-packages/pandas/core/strings.py:1954: UserWarning: This pattern has match groups. To actually get the groups, use str.extract.\n",
      "  return func(self, *args, **kwargs)\n"
     ]
    }
   ],
   "source": [
    "influencers = []\n",
    "for filename in csv_files:    \n",
    "    influencer = Influencer(profile=filename[:-11], filepath='./influencers/{}'.format(filename))\n",
    "    influencer.filter_tweets(df_b3_companies)\n",
    "    influencers.append(influencer)"
   ]
  },
  {
   "cell_type": "code",
   "execution_count": 41,
   "metadata": {},
   "outputs": [
    {
     "data": {
      "text/plain": [
       "15"
      ]
     },
     "execution_count": 41,
     "metadata": {},
     "output_type": "execute_result"
    }
   ],
   "source": [
    "len(influencers)"
   ]
  },
  {
   "cell_type": "code",
   "execution_count": 45,
   "metadata": {},
   "outputs": [
    {
     "data": {
      "text/plain": [
       "{'israel_massa': 605,\n",
       " 'isabelablima': 221,\n",
       " 'hbredda': 302,\n",
       " 'BruceBarbosa88': 409,\n",
       " 'ativacorretora': 634,\n",
       " 'sergiosanita': 328,\n",
       " 'albuquerque_af': 170,\n",
       " 'GeralNews': 220,\n",
       " 'WeInvestDigital': 1291,\n",
       " 'tradersclubbr': 2305,\n",
       " 'bernardocorazza': 214,\n",
       " 'cafecomferri': 385,\n",
       " 'FilipeVillegas': 4106,\n",
       " 'mycapinvest': 854,\n",
       " 'FastTrade_cedro': 1231}"
      ]
     },
     "execution_count": 45,
     "metadata": {},
     "output_type": "execute_result"
    }
   ],
   "source": [
    "tweets_distrib = {}\n",
    "for influencer in influencers:\n",
    "    tweets_distrib[influencer.profile] = len(influencer.tweets)\n",
    "    \n",
    "    \n",
    "tweets_distrib"
   ]
  },
  {
   "cell_type": "code",
   "execution_count": 46,
   "metadata": {},
   "outputs": [
    {
     "data": {
      "text/plain": [
       "2305"
      ]
     },
     "execution_count": 46,
     "metadata": {},
     "output_type": "execute_result"
    }
   ],
   "source": [
    "tweets_distrib['tradersclubbr']"
   ]
  },
  {
   "cell_type": "markdown",
   "metadata": {},
   "source": [
    "### Tópico 2:  List/Dictionary comprehension "
   ]
  },
  {
   "cell_type": "code",
   "execution_count": 48,
   "metadata": {},
   "outputs": [
    {
     "data": {
      "text/plain": [
       "{'israel_massa': 605,\n",
       " 'isabelablima': 221,\n",
       " 'hbredda': 302,\n",
       " 'BruceBarbosa88': 409,\n",
       " 'ativacorretora': 634,\n",
       " 'sergiosanita': 328,\n",
       " 'albuquerque_af': 170,\n",
       " 'GeralNews': 220,\n",
       " 'WeInvestDigital': 1291,\n",
       " 'tradersclubbr': 2305,\n",
       " 'bernardocorazza': 214,\n",
       " 'cafecomferri': 385,\n",
       " 'FilipeVillegas': 4106,\n",
       " 'mycapinvest': 854,\n",
       " 'FastTrade_cedro': 1231}"
      ]
     },
     "execution_count": 48,
     "metadata": {},
     "output_type": "execute_result"
    }
   ],
   "source": [
    "tweets_distrib_compr = {influencer.profile : len(influencer.tweets) for influencer in influencers}\n",
    "tweets_distrib_compr"
   ]
  },
  {
   "cell_type": "code",
   "execution_count": 8,
   "metadata": {},
   "outputs": [
    {
     "name": "stdout",
     "output_type": "stream",
     "text": [
      "dict_keys(['israel_massa', 'isabelablima', 'hbredda', 'BruceBarbosa88', 'ativacorretora', 'sergiosanita', 'albuquerque_af', 'GeralNews', 'WeInvestDigital', 'tradersclubbr', 'bernardocorazza', 'cafecomferri', 'FilipeVillegas', 'mycapinvest', 'FastTrade_cedro']) \n",
      "\n",
      "dict_values([605, 221, 302, 409, 634, 328, 170, 220, 1291, 2305, 214, 385, 4106, 854, 1231])\n"
     ]
    }
   ],
   "source": [
    "print(tweets_distrib_compr.keys(), '\\n')\n",
    "print(tweets_distrib_compr.values())"
   ]
  },
  {
   "cell_type": "code",
   "execution_count": 15,
   "metadata": {},
   "outputs": [
    {
     "name": "stdout",
     "output_type": "stream",
     "text": [
      "['BruceBarbosa88', 'FastTrade_cedro', 'FilipeVillegas', 'GeralNews', 'WeInvestDigital', 'albuquerque_af', 'ativacorretora', 'bernardocorazza', 'cafecomferri', 'hbredda', 'isabelablima', 'israel_massa', 'mycapinvest', 'sergiosanita', 'tradersclubbr'] \n",
      "\n",
      "[170, 214, 220, 221, 302, 328, 385, 409, 605, 634, 854, 1231, 1291, 2305, 4106]\n"
     ]
    }
   ],
   "source": [
    "print(sorted(tweets_distrib_compr.keys()), '\\n')\n",
    "print(sorted(tweets_distrib_compr.values()))"
   ]
  },
  {
   "cell_type": "markdown",
   "metadata": {},
   "source": [
    "#### Tópico 2.1: Build-in functions"
   ]
  },
  {
   "cell_type": "markdown",
   "metadata": {},
   "source": [
    "* Encontre os perfis com o maior e menor número de tweets e print eles"
   ]
  },
  {
   "cell_type": "code",
   "execution_count": 51,
   "metadata": {},
   "outputs": [
    {
     "name": "stdout",
     "output_type": "stream",
     "text": [
      "min albuquerque_af 170\n",
      "max FilipeVillegas 4106\n"
     ]
    }
   ],
   "source": [
    "# get the max and min values\n",
    "max_value, min_value = max(tweets_distrib_compr.values()), min(tweets_distrib_compr.values())\n",
    "\n",
    "# iterate over the dictionary comparing the \n",
    "for profile, number_tweets in tweets_distrib_compr.items():\n",
    "    if number_tweets == max_value:\n",
    "        print('max', profile, number_tweets)\n",
    "    elif number_tweets == min_value:\n",
    "        print('min', profile, number_tweets)"
   ]
  },
  {
   "cell_type": "code",
   "execution_count": 52,
   "metadata": {},
   "outputs": [
    {
     "name": "stdout",
     "output_type": "stream",
     "text": [
      "min albuquerque_af 170\n",
      "max FilipeVillegas 4106\n"
     ]
    }
   ],
   "source": [
    "for profile in tweets_distrib_compr.keys():\n",
    "    number_tweets = tweets_distrib_compr[profile]\n",
    "    \n",
    "    if number_tweets == max_value:\n",
    "        print('max', profile, number_tweets)\n",
    "    elif number_tweets == min_value:\n",
    "        print('min', profile, number_tweets)"
   ]
  },
  {
   "cell_type": "code",
   "execution_count": 49,
   "metadata": {},
   "outputs": [
    {
     "data": {
      "text/plain": [
       "dict_items([('israel_massa', 605), ('isabelablima', 221), ('hbredda', 302), ('BruceBarbosa88', 409), ('ativacorretora', 634), ('sergiosanita', 328), ('albuquerque_af', 170), ('GeralNews', 220), ('WeInvestDigital', 1291), ('tradersclubbr', 2305), ('bernardocorazza', 214), ('cafecomferri', 385), ('FilipeVillegas', 4106), ('mycapinvest', 854), ('FastTrade_cedro', 1231)])"
      ]
     },
     "execution_count": 49,
     "metadata": {},
     "output_type": "execute_result"
    }
   ],
   "source": [
    "tweets_distrib_compr.items()"
   ]
  },
  {
   "cell_type": "markdown",
   "metadata": {},
   "source": [
    "Refazendo o mesmo exercício, porém usando ``filter(function, iterable)``"
   ]
  },
  {
   "cell_type": "code",
   "execution_count": 56,
   "metadata": {},
   "outputs": [
    {
     "name": "stdout",
     "output_type": "stream",
     "text": [
      "[1]\n",
      "[1, 1]\n",
      "2\n",
      "2\n"
     ]
    }
   ],
   "source": [
    "def filtra(item):\n",
    "    if item[1] == max_value or item[1] == min_value:\n",
    "        return True\n",
    "    \n",
    "    return False"
   ]
  },
  {
   "cell_type": "code",
   "execution_count": 57,
   "metadata": {},
   "outputs": [
    {
     "name": "stdout",
     "output_type": "stream",
     "text": [
      "min albuquerque_af 170\n",
      "max FilipeVillegas 4106\n"
     ]
    }
   ],
   "source": [
    "filtered_items = filter(lambda item: item[1] == max_value or item[1] == min_value, tweets_distrib_compr.items())\n",
    "filtered_items = list(filtered_items)\n",
    "filtered_items.sort(key=lambda x: x[1])\n",
    "print('min', filtered_items[0][0], filtered_items[0][1])\n",
    "print('max', filtered_items[1][0], filtered_items[1][1])"
   ]
  },
  {
   "cell_type": "code",
   "execution_count": 62,
   "metadata": {},
   "outputs": [
    {
     "data": {
      "text/plain": [
       "'albuquerque_af'"
      ]
     },
     "execution_count": 62,
     "metadata": {},
     "output_type": "execute_result"
    }
   ],
   "source": [
    "filtered_items[0][0]"
   ]
  },
  {
   "cell_type": "code",
   "execution_count": null,
   "metadata": {},
   "outputs": [],
   "source": [
    "filtered_items = sorted(filtered_items)"
   ]
  },
  {
   "cell_type": "markdown",
   "metadata": {},
   "source": [
    "* calcule o número total de tweets, ou seja, a soma dos número de tweets por perfil"
   ]
  },
  {
   "cell_type": "code",
   "execution_count": 63,
   "metadata": {},
   "outputs": [
    {
     "name": "stdout",
     "output_type": "stream",
     "text": [
      "Número total de tweets é 13275\n",
      "Número total de tweets é 13275\n"
     ]
    }
   ],
   "source": [
    "#iterative form\n",
    "total = 0\n",
    "for n in tweets_distrib_compr.values():\n",
    "    total += n\n",
    "print('Número total de tweets é', total)\n",
    "\n",
    "\n",
    "# using build-in functions\n",
    "total2 = sum(tweets_distrib_compr.values())\n",
    "print('Número total de tweets é', total2)"
   ]
  },
  {
   "cell_type": "markdown",
   "metadata": {},
   "source": [
    "### Tópico 3: Numpy\n",
    "\n",
    "* Printando Estatísticas"
   ]
  },
  {
   "cell_type": "code",
   "execution_count": 64,
   "metadata": {},
   "outputs": [
    {
     "name": "stdout",
     "output_type": "stream",
     "text": [
      "Max 4106 Min 170\n",
      "Mean 885.0 Standard Deviation 1025.977777537116\n"
     ]
    }
   ],
   "source": [
    "# Corrija o erro abaixo e print as estatísticas sobre o número de tweets por perfil\n",
    "number_tweets = list(tweets_distrib_compr.values())\n",
    "number_tweets = np.array(number_tweets)\n",
    "\n",
    "print('Max', number_tweets.max(), 'Min', number_tweets.min())\n",
    "print('Mean', number_tweets.mean(), 'Standard Deviation', number_tweets.std())"
   ]
  },
  {
   "cell_type": "markdown",
   "metadata": {},
   "source": [
    "* Encontre a probabilidade de se escolher um tweet ao acaso e ele ser de cada um dos perfis. \n",
    "\n",
    "**Dica**: Divida o número de tweets por perfil pelo número total de tweets"
   ]
  },
  {
   "cell_type": "code",
   "execution_count": 65,
   "metadata": {},
   "outputs": [
    {
     "data": {
      "text/plain": [
       "13275"
      ]
     },
     "execution_count": 65,
     "metadata": {},
     "output_type": "execute_result"
    }
   ],
   "source": [
    "number_tweets.sum()"
   ]
  },
  {
   "cell_type": "code",
   "execution_count": 66,
   "metadata": {},
   "outputs": [
    {
     "data": {
      "text/plain": [
       "array([ 605,  221,  302,  409,  634,  328,  170,  220, 1291, 2305,  214,\n",
       "        385, 4106,  854, 1231])"
      ]
     },
     "execution_count": 66,
     "metadata": {},
     "output_type": "execute_result"
    }
   ],
   "source": [
    "number_tweets"
   ]
  },
  {
   "cell_type": "code",
   "execution_count": 67,
   "metadata": {},
   "outputs": [
    {
     "name": "stdout",
     "output_type": "stream",
     "text": [
      "(15,) [0.04557439 0.01664783 0.02274953 0.03080979 0.04775895 0.0247081\n",
      " 0.01280603 0.0165725  0.09725047 0.17363465 0.01612053 0.02900188\n",
      " 0.3093032  0.06433145 0.0927307 ]\n"
     ]
    }
   ],
   "source": [
    "probs = number_tweets/number_tweets.sum()\n",
    "print(probs.shape, probs)"
   ]
  },
  {
   "cell_type": "markdown",
   "metadata": {},
   "source": [
    "* Encontre a probabilidade de se escolher 2 tweets ao acaso e eles serem dos perfis i e j, para todo i,j\n",
    "\n",
    "Assuma *P(i, j) = P(i).P(j)*"
   ]
  },
  {
   "cell_type": "code",
   "execution_count": 68,
   "metadata": {},
   "outputs": [
    {
     "name": "stdout",
     "output_type": "stream",
     "text": [
      "[0.04557439 0.01664783 0.02274953 0.03080979 0.04775895 0.0247081\n",
      " 0.01280603 0.0165725  0.09725047 0.17363465 0.01612053 0.02900188\n",
      " 0.3093032  0.06433145 0.0927307 ]\n"
     ]
    },
    {
     "data": {
      "text/plain": [
       "array([0.00207702, 0.00027715, 0.00051754, 0.00094924, 0.00228092,\n",
       "       0.00061049, 0.00016399, 0.00027465, 0.00945765, 0.03014899,\n",
       "       0.00025987, 0.00084111, 0.09566847, 0.00413854, 0.00859898])"
      ]
     },
     "execution_count": 68,
     "metadata": {},
     "output_type": "execute_result"
    }
   ],
   "source": [
    "print(probs)\n",
    "probs*probs"
   ]
  },
  {
   "cell_type": "code",
   "execution_count": 70,
   "metadata": {
    "scrolled": true
   },
   "outputs": [
    {
     "name": "stdout",
     "output_type": "stream",
     "text": [
      "Probabilidade de se escolher 2 tweets do perfil 0 0.0020770248367682057\n",
      "Probabilidade de se escolher 1 tweet do perfil 5 e outro do perfil 7 0.0004094750692471654\n",
      "(15, 15)\n"
     ]
    },
    {
     "data": {
      "text/plain": [
       "array([[0.00207702, 0.00075871, 0.0010368 , 0.00140414, 0.00217658,\n",
       "        0.00112606, 0.00058363, 0.00075528, 0.00443213, 0.00791329,\n",
       "        0.00073468, 0.00132174, 0.0140963 , 0.00293187, 0.00422614],\n",
       "       [0.00075871, 0.00027715, 0.00037873, 0.00051292, 0.00079508,\n",
       "        0.00041134, 0.00021319, 0.0002759 , 0.00161901, 0.00289064,\n",
       "        0.00026837, 0.00048282, 0.00514923, 0.00107098, 0.00154377],\n",
       "       [0.0010368 , 0.00037873, 0.00051754, 0.00070091, 0.00108649,\n",
       "        0.0005621 , 0.00029133, 0.00037702, 0.0022124 , 0.00395011,\n",
       "        0.00036673, 0.00065978, 0.0070365 , 0.00146351, 0.00210958],\n",
       "       [0.00140414, 0.00051292, 0.00070091, 0.00094924, 0.00147144,\n",
       "        0.00076125, 0.00039455, 0.0005106 , 0.00299627, 0.00534965,\n",
       "        0.00049667, 0.00089354, 0.00952957, 0.00198204, 0.00285701],\n",
       "       [0.00217658, 0.00079508, 0.00108649, 0.00147144, 0.00228092,\n",
       "        0.00118003, 0.0006116 , 0.00079149, 0.00464458, 0.00829261,\n",
       "        0.0007699 , 0.0013851 , 0.01477199, 0.0030724 , 0.00442872],\n",
       "       [0.00112606, 0.00041134, 0.0005621 , 0.00076125, 0.00118003,\n",
       "        0.00061049, 0.00031641, 0.00040948, 0.00240287, 0.00429018,\n",
       "        0.00039831, 0.00071658, 0.00764229, 0.00158951, 0.0022912 ],\n",
       "       [0.00058363, 0.00021319, 0.00029133, 0.00039455, 0.0006116 ,\n",
       "        0.00031641, 0.00016399, 0.00021223, 0.00124539, 0.00222357,\n",
       "        0.00020644, 0.0003714 , 0.00396094, 0.00082383, 0.00118751],\n",
       "       [0.00075528, 0.0002759 , 0.00037702, 0.0005106 , 0.00079149,\n",
       "        0.00040948, 0.00021223, 0.00027465, 0.00161168, 0.00287756,\n",
       "        0.00026716, 0.00048063, 0.00512593, 0.00106613, 0.00153678],\n",
       "       [0.00443213, 0.00161901, 0.0022124 , 0.00299627, 0.00464458,\n",
       "        0.00240287, 0.00124539, 0.00161168, 0.00945765, 0.01688605,\n",
       "        0.00156773, 0.00282045, 0.03007988, 0.00625626, 0.0090181 ],\n",
       "       [0.00791329, 0.00289064, 0.00395011, 0.00534965, 0.00829261,\n",
       "        0.00429018, 0.00222357, 0.00287756, 0.01688605, 0.03014899,\n",
       "        0.00279908, 0.00503573, 0.05370575, 0.01117017, 0.01610126],\n",
       "       [0.00073468, 0.00026837, 0.00036673, 0.00049667, 0.0007699 ,\n",
       "        0.00039831, 0.00020644, 0.00026716, 0.00156773, 0.00279908,\n",
       "        0.00025987, 0.00046753, 0.00498613, 0.00103706, 0.00149487],\n",
       "       [0.00132174, 0.00048282, 0.00065978, 0.00089354, 0.0013851 ,\n",
       "        0.00071658, 0.0003714 , 0.00048063, 0.00282045, 0.00503573,\n",
       "        0.00046753, 0.00084111, 0.00897038, 0.00186573, 0.00268936],\n",
       "       [0.0140963 , 0.00514923, 0.0070365 , 0.00952957, 0.01477199,\n",
       "        0.00764229, 0.00396094, 0.00512593, 0.03007988, 0.05370575,\n",
       "        0.00498613, 0.00897038, 0.09566847, 0.01989792, 0.0286819 ],\n",
       "       [0.00293187, 0.00107098, 0.00146351, 0.00198204, 0.0030724 ,\n",
       "        0.00158951, 0.00082383, 0.00106613, 0.00625626, 0.01117017,\n",
       "        0.00103706, 0.00186573, 0.01989792, 0.00413854, 0.0059655 ],\n",
       "       [0.00422614, 0.00154377, 0.00210958, 0.00285701, 0.00442872,\n",
       "        0.0022912 , 0.00118751, 0.00153678, 0.0090181 , 0.01610126,\n",
       "        0.00149487, 0.00268936, 0.0286819 , 0.0059655 , 0.00859898]])"
      ]
     },
     "execution_count": 70,
     "metadata": {},
     "output_type": "execute_result"
    }
   ],
   "source": [
    "joint_probs = np.outer(probs, probs)\n",
    "print(\"Probabilidade de se escolher 2 tweets do perfil 0\", joint_probs[0,0])\n",
    "print(\"Probabilidade de se escolher 1 tweet do perfil 5 e outro do perfil 7\", joint_probs[5,7])\n",
    "print(joint_probs.shape)\n",
    "joint_probs"
   ]
  },
  {
   "cell_type": "markdown",
   "metadata": {},
   "source": [
    "Outra forma de se resolver esse problema"
   ]
  },
  {
   "cell_type": "code",
   "execution_count": 78,
   "metadata": {},
   "outputs": [
    {
     "data": {
      "text/plain": [
       "array([[0.04557439, 0.01664783, 0.02274953, 0.03080979, 0.04775895,\n",
       "        0.0247081 , 0.01280603, 0.0165725 , 0.09725047, 0.17363465,\n",
       "        0.01612053, 0.02900188, 0.3093032 , 0.06433145, 0.0927307 ]])"
      ]
     },
     "execution_count": 78,
     "metadata": {},
     "output_type": "execute_result"
    }
   ],
   "source": [
    "a = probs.reshape((1,-1))\n",
    "a"
   ]
  },
  {
   "cell_type": "code",
   "execution_count": 22,
   "metadata": {
    "scrolled": true
   },
   "outputs": [
    {
     "data": {
      "text/plain": [
       "array([[0.00207702, 0.00075871, 0.0010368 , 0.00140414, 0.00217658,\n",
       "        0.00112606, 0.00058363, 0.00075528, 0.00443213, 0.00791329,\n",
       "        0.00073468, 0.00132174, 0.0140963 , 0.00293187, 0.00422614],\n",
       "       [0.00075871, 0.00027715, 0.00037873, 0.00051292, 0.00079508,\n",
       "        0.00041134, 0.00021319, 0.0002759 , 0.00161901, 0.00289064,\n",
       "        0.00026837, 0.00048282, 0.00514923, 0.00107098, 0.00154377],\n",
       "       [0.0010368 , 0.00037873, 0.00051754, 0.00070091, 0.00108649,\n",
       "        0.0005621 , 0.00029133, 0.00037702, 0.0022124 , 0.00395011,\n",
       "        0.00036673, 0.00065978, 0.0070365 , 0.00146351, 0.00210958],\n",
       "       [0.00140414, 0.00051292, 0.00070091, 0.00094924, 0.00147144,\n",
       "        0.00076125, 0.00039455, 0.0005106 , 0.00299627, 0.00534965,\n",
       "        0.00049667, 0.00089354, 0.00952957, 0.00198204, 0.00285701],\n",
       "       [0.00217658, 0.00079508, 0.00108649, 0.00147144, 0.00228092,\n",
       "        0.00118003, 0.0006116 , 0.00079149, 0.00464458, 0.00829261,\n",
       "        0.0007699 , 0.0013851 , 0.01477199, 0.0030724 , 0.00442872],\n",
       "       [0.00112606, 0.00041134, 0.0005621 , 0.00076125, 0.00118003,\n",
       "        0.00061049, 0.00031641, 0.00040948, 0.00240287, 0.00429018,\n",
       "        0.00039831, 0.00071658, 0.00764229, 0.00158951, 0.0022912 ],\n",
       "       [0.00058363, 0.00021319, 0.00029133, 0.00039455, 0.0006116 ,\n",
       "        0.00031641, 0.00016399, 0.00021223, 0.00124539, 0.00222357,\n",
       "        0.00020644, 0.0003714 , 0.00396094, 0.00082383, 0.00118751],\n",
       "       [0.00075528, 0.0002759 , 0.00037702, 0.0005106 , 0.00079149,\n",
       "        0.00040948, 0.00021223, 0.00027465, 0.00161168, 0.00287756,\n",
       "        0.00026716, 0.00048063, 0.00512593, 0.00106613, 0.00153678],\n",
       "       [0.00443213, 0.00161901, 0.0022124 , 0.00299627, 0.00464458,\n",
       "        0.00240287, 0.00124539, 0.00161168, 0.00945765, 0.01688605,\n",
       "        0.00156773, 0.00282045, 0.03007988, 0.00625626, 0.0090181 ],\n",
       "       [0.00791329, 0.00289064, 0.00395011, 0.00534965, 0.00829261,\n",
       "        0.00429018, 0.00222357, 0.00287756, 0.01688605, 0.03014899,\n",
       "        0.00279908, 0.00503573, 0.05370575, 0.01117017, 0.01610126],\n",
       "       [0.00073468, 0.00026837, 0.00036673, 0.00049667, 0.0007699 ,\n",
       "        0.00039831, 0.00020644, 0.00026716, 0.00156773, 0.00279908,\n",
       "        0.00025987, 0.00046753, 0.00498613, 0.00103706, 0.00149487],\n",
       "       [0.00132174, 0.00048282, 0.00065978, 0.00089354, 0.0013851 ,\n",
       "        0.00071658, 0.0003714 , 0.00048063, 0.00282045, 0.00503573,\n",
       "        0.00046753, 0.00084111, 0.00897038, 0.00186573, 0.00268936],\n",
       "       [0.0140963 , 0.00514923, 0.0070365 , 0.00952957, 0.01477199,\n",
       "        0.00764229, 0.00396094, 0.00512593, 0.03007988, 0.05370575,\n",
       "        0.00498613, 0.00897038, 0.09566847, 0.01989792, 0.0286819 ],\n",
       "       [0.00293187, 0.00107098, 0.00146351, 0.00198204, 0.0030724 ,\n",
       "        0.00158951, 0.00082383, 0.00106613, 0.00625626, 0.01117017,\n",
       "        0.00103706, 0.00186573, 0.01989792, 0.00413854, 0.0059655 ],\n",
       "       [0.00422614, 0.00154377, 0.00210958, 0.00285701, 0.00442872,\n",
       "        0.0022912 , 0.00118751, 0.00153678, 0.0090181 , 0.01610126,\n",
       "        0.00149487, 0.00268936, 0.0286819 , 0.0059655 , 0.00859898]])"
      ]
     },
     "execution_count": 22,
     "metadata": {},
     "output_type": "execute_result"
    }
   ],
   "source": [
    "joint_probs = probs.reshape((1,-1))\n",
    "joint_probs.T*joint_probs"
   ]
  },
  {
   "cell_type": "code",
   "execution_count": 79,
   "metadata": {},
   "outputs": [
    {
     "data": {
      "text/plain": [
       "array([[0.00039831, 0.00071658, 0.00764229],\n",
       "       [0.00020644, 0.0003714 , 0.00396094]])"
      ]
     },
     "execution_count": 79,
     "metadata": {},
     "output_type": "execute_result"
    }
   ],
   "source": [
    "joint_probs[5:7, 10:13]"
   ]
  },
  {
   "cell_type": "code",
   "execution_count": 80,
   "metadata": {},
   "outputs": [
    {
     "data": {
      "text/plain": [
       "array([[3, 6, 8, 2, 1],\n",
       "       [5, 2, 1, 8, 7],\n",
       "       [4, 9, 6, 0, 1]])"
      ]
     },
     "execution_count": 80,
     "metadata": {},
     "output_type": "execute_result"
    }
   ],
   "source": [
    "matrix = np.array([[3,6,8,2,1], [5,2,1,8,7], [4,9,6,0,1]])\n",
    "matrix"
   ]
  },
  {
   "cell_type": "markdown",
   "metadata": {},
   "source": [
    "Retorna o valor máximo por colunas"
   ]
  },
  {
   "cell_type": "code",
   "execution_count": 25,
   "metadata": {},
   "outputs": [
    {
     "data": {
      "text/plain": [
       "array([3, 2, 1, 0, 1])"
      ]
     },
     "execution_count": 25,
     "metadata": {},
     "output_type": "execute_result"
    }
   ],
   "source": [
    "matrix.max(axis=0)"
   ]
  },
  {
   "cell_type": "markdown",
   "metadata": {},
   "source": [
    "Retorna o valor máximo por linhas"
   ]
  },
  {
   "cell_type": "code",
   "execution_count": 26,
   "metadata": {},
   "outputs": [
    {
     "data": {
      "text/plain": [
       "array([8, 8, 9])"
      ]
     },
     "execution_count": 26,
     "metadata": {},
     "output_type": "execute_result"
    }
   ],
   "source": [
    "matrix.max(axis=1)"
   ]
  },
  {
   "cell_type": "markdown",
   "metadata": {},
   "source": [
    "### Tópico 4: Pandas"
   ]
  },
  {
   "cell_type": "code",
   "execution_count": 27,
   "metadata": {},
   "outputs": [
    {
     "data": {
      "text/html": [
       "<div>\n",
       "<style scoped>\n",
       "    .dataframe tbody tr th:only-of-type {\n",
       "        vertical-align: middle;\n",
       "    }\n",
       "\n",
       "    .dataframe tbody tr th {\n",
       "        vertical-align: top;\n",
       "    }\n",
       "\n",
       "    .dataframe thead th {\n",
       "        text-align: right;\n",
       "    }\n",
       "</style>\n",
       "<table border=\"1\" class=\"dataframe\">\n",
       "  <thead>\n",
       "    <tr style=\"text-align: right;\">\n",
       "      <th></th>\n",
       "      <th>SETOR ECONÔMICO</th>\n",
       "      <th>SUBSETOR</th>\n",
       "      <th>SEGMENTO</th>\n",
       "      <th>NOME DA EMPRESA</th>\n",
       "      <th>CÓDIGO</th>\n",
       "    </tr>\n",
       "  </thead>\n",
       "  <tbody>\n",
       "    <tr>\n",
       "      <th>0</th>\n",
       "      <td>Petróleo, Gás e Biocombustíveis</td>\n",
       "      <td>Petróleo, Gás e Biocombustíveis</td>\n",
       "      <td>Exploração, Refino e Distribuição</td>\n",
       "      <td>COSAN</td>\n",
       "      <td>CSAN</td>\n",
       "    </tr>\n",
       "    <tr>\n",
       "      <th>1</th>\n",
       "      <td>Petróleo, Gás e Biocombustíveis</td>\n",
       "      <td>Petróleo, Gás e Biocombustíveis</td>\n",
       "      <td>Exploração, Refino e Distribuição</td>\n",
       "      <td>DOMMO</td>\n",
       "      <td>DMMO</td>\n",
       "    </tr>\n",
       "    <tr>\n",
       "      <th>2</th>\n",
       "      <td>Petróleo, Gás e Biocombustíveis</td>\n",
       "      <td>Petróleo, Gás e Biocombustíveis</td>\n",
       "      <td>Exploração, Refino e Distribuição</td>\n",
       "      <td>ENAUTA PART|ENAUTA</td>\n",
       "      <td>ENAT</td>\n",
       "    </tr>\n",
       "    <tr>\n",
       "      <th>3</th>\n",
       "      <td>Petróleo, Gás e Biocombustíveis</td>\n",
       "      <td>Petróleo, Gás e Biocombustíveis</td>\n",
       "      <td>Exploração, Refino e Distribuição</td>\n",
       "      <td>PET MANGUINH</td>\n",
       "      <td>RPMG</td>\n",
       "    </tr>\n",
       "    <tr>\n",
       "      <th>4</th>\n",
       "      <td>Petróleo, Gás e Biocombustíveis</td>\n",
       "      <td>Petróleo, Gás e Biocombustíveis</td>\n",
       "      <td>Exploração, Refino e Distribuição</td>\n",
       "      <td>PETROBRAS|PETROBRÁS</td>\n",
       "      <td>PETR</td>\n",
       "    </tr>\n",
       "  </tbody>\n",
       "</table>\n",
       "</div>"
      ],
      "text/plain": [
       "                   SETOR ECONÔMICO                         SUBSETOR  \\\n",
       "0  Petróleo, Gás e Biocombustíveis  Petróleo, Gás e Biocombustíveis   \n",
       "1  Petróleo, Gás e Biocombustíveis  Petróleo, Gás e Biocombustíveis   \n",
       "2  Petróleo, Gás e Biocombustíveis  Petróleo, Gás e Biocombustíveis   \n",
       "3  Petróleo, Gás e Biocombustíveis  Petróleo, Gás e Biocombustíveis   \n",
       "4  Petróleo, Gás e Biocombustíveis  Petróleo, Gás e Biocombustíveis   \n",
       "\n",
       "                            SEGMENTO      NOME DA EMPRESA CÓDIGO  \n",
       "0  Exploração, Refino e Distribuição                COSAN   CSAN  \n",
       "1  Exploração, Refino e Distribuição                DOMMO   DMMO  \n",
       "2  Exploração, Refino e Distribuição   ENAUTA PART|ENAUTA   ENAT  \n",
       "3  Exploração, Refino e Distribuição         PET MANGUINH   RPMG  \n",
       "4  Exploração, Refino e Distribuição  PETROBRAS|PETROBRÁS   PETR  "
      ]
     },
     "execution_count": 27,
     "metadata": {},
     "output_type": "execute_result"
    }
   ],
   "source": [
    "df_b3_companies.head(5)"
   ]
  },
  {
   "cell_type": "code",
   "execution_count": 81,
   "metadata": {},
   "outputs": [
    {
     "data": {
      "text/html": [
       "<div>\n",
       "<style scoped>\n",
       "    .dataframe tbody tr th:only-of-type {\n",
       "        vertical-align: middle;\n",
       "    }\n",
       "\n",
       "    .dataframe tbody tr th {\n",
       "        vertical-align: top;\n",
       "    }\n",
       "\n",
       "    .dataframe thead th {\n",
       "        text-align: right;\n",
       "    }\n",
       "</style>\n",
       "<table border=\"1\" class=\"dataframe\">\n",
       "  <thead>\n",
       "    <tr style=\"text-align: right;\">\n",
       "      <th></th>\n",
       "      <th>SETOR ECONÔMICO</th>\n",
       "      <th>SUBSETOR</th>\n",
       "      <th>SEGMENTO</th>\n",
       "      <th>NOME DA EMPRESA</th>\n",
       "      <th>CÓDIGO</th>\n",
       "    </tr>\n",
       "  </thead>\n",
       "  <tbody>\n",
       "    <tr>\n",
       "      <th>413</th>\n",
       "      <td>Outros</td>\n",
       "      <td>Outros</td>\n",
       "      <td>Outros</td>\n",
       "      <td>INVEST BEMGE</td>\n",
       "      <td>FIGE</td>\n",
       "    </tr>\n",
       "    <tr>\n",
       "      <th>414</th>\n",
       "      <td>Outros</td>\n",
       "      <td>Outros</td>\n",
       "      <td>Outros</td>\n",
       "      <td>J B DUARTE</td>\n",
       "      <td>JBDU</td>\n",
       "    </tr>\n",
       "    <tr>\n",
       "      <th>415</th>\n",
       "      <td>Outros</td>\n",
       "      <td>Outros</td>\n",
       "      <td>Outros</td>\n",
       "      <td>LONGDIS</td>\n",
       "      <td>SPRT</td>\n",
       "    </tr>\n",
       "    <tr>\n",
       "      <th>416</th>\n",
       "      <td>Outros</td>\n",
       "      <td>Outros</td>\n",
       "      <td>Outros</td>\n",
       "      <td>MGI PARTICIP</td>\n",
       "      <td>MGIP</td>\n",
       "    </tr>\n",
       "    <tr>\n",
       "      <th>417</th>\n",
       "      <td>Outros</td>\n",
       "      <td>Outros</td>\n",
       "      <td>Outros</td>\n",
       "      <td>OPPORT ENERG</td>\n",
       "      <td>OPHE</td>\n",
       "    </tr>\n",
       "    <tr>\n",
       "      <th>418</th>\n",
       "      <td>Outros</td>\n",
       "      <td>Outros</td>\n",
       "      <td>Outros</td>\n",
       "      <td>POLPAR</td>\n",
       "      <td>PPAR</td>\n",
       "    </tr>\n",
       "    <tr>\n",
       "      <th>419</th>\n",
       "      <td>Outros</td>\n",
       "      <td>Outros</td>\n",
       "      <td>Outros</td>\n",
       "      <td>PROMPT PART</td>\n",
       "      <td>PRPT</td>\n",
       "    </tr>\n",
       "    <tr>\n",
       "      <th>420</th>\n",
       "      <td>Outros</td>\n",
       "      <td>Outros</td>\n",
       "      <td>Outros</td>\n",
       "      <td>SELECTPART</td>\n",
       "      <td>SLCT</td>\n",
       "    </tr>\n",
       "    <tr>\n",
       "      <th>421</th>\n",
       "      <td>Outros</td>\n",
       "      <td>Outros</td>\n",
       "      <td>Outros</td>\n",
       "      <td>SUDESTE S/A</td>\n",
       "      <td>OPSE</td>\n",
       "    </tr>\n",
       "    <tr>\n",
       "      <th>422</th>\n",
       "      <td>Outros</td>\n",
       "      <td>Outros</td>\n",
       "      <td>Outros</td>\n",
       "      <td>SUL 116 PART</td>\n",
       "      <td>OPTS</td>\n",
       "    </tr>\n",
       "  </tbody>\n",
       "</table>\n",
       "</div>"
      ],
      "text/plain": [
       "    SETOR ECONÔMICO SUBSETOR SEGMENTO NOME DA EMPRESA CÓDIGO\n",
       "413          Outros   Outros   Outros    INVEST BEMGE   FIGE\n",
       "414          Outros   Outros   Outros      J B DUARTE   JBDU\n",
       "415          Outros   Outros   Outros         LONGDIS   SPRT\n",
       "416          Outros   Outros   Outros    MGI PARTICIP   MGIP\n",
       "417          Outros   Outros   Outros    OPPORT ENERG   OPHE\n",
       "418          Outros   Outros   Outros          POLPAR   PPAR\n",
       "419          Outros   Outros   Outros     PROMPT PART   PRPT\n",
       "420          Outros   Outros   Outros      SELECTPART   SLCT\n",
       "421          Outros   Outros   Outros     SUDESTE S/A   OPSE\n",
       "422          Outros   Outros   Outros    SUL 116 PART   OPTS"
      ]
     },
     "execution_count": 81,
     "metadata": {},
     "output_type": "execute_result"
    }
   ],
   "source": [
    "df_b3_companies.tail(10)"
   ]
  },
  {
   "cell_type": "code",
   "execution_count": 29,
   "metadata": {},
   "outputs": [
    {
     "data": {
      "text/html": [
       "<div>\n",
       "<style scoped>\n",
       "    .dataframe tbody tr th:only-of-type {\n",
       "        vertical-align: middle;\n",
       "    }\n",
       "\n",
       "    .dataframe tbody tr th {\n",
       "        vertical-align: top;\n",
       "    }\n",
       "\n",
       "    .dataframe thead th {\n",
       "        text-align: right;\n",
       "    }\n",
       "</style>\n",
       "<table border=\"1\" class=\"dataframe\">\n",
       "  <thead>\n",
       "    <tr style=\"text-align: right;\">\n",
       "      <th></th>\n",
       "      <th>SETOR ECONÔMICO</th>\n",
       "      <th>SUBSETOR</th>\n",
       "      <th>SEGMENTO</th>\n",
       "      <th>NOME DA EMPRESA</th>\n",
       "      <th>CÓDIGO</th>\n",
       "    </tr>\n",
       "  </thead>\n",
       "  <tbody>\n",
       "    <tr>\n",
       "      <th>count</th>\n",
       "      <td>423</td>\n",
       "      <td>423</td>\n",
       "      <td>422</td>\n",
       "      <td>423</td>\n",
       "      <td>423</td>\n",
       "    </tr>\n",
       "    <tr>\n",
       "      <th>unique</th>\n",
       "      <td>11</td>\n",
       "      <td>41</td>\n",
       "      <td>81</td>\n",
       "      <td>423</td>\n",
       "      <td>423</td>\n",
       "    </tr>\n",
       "    <tr>\n",
       "      <th>top</th>\n",
       "      <td>Consumo Cíclico</td>\n",
       "      <td>Energia Elétrica</td>\n",
       "      <td>Energia Elétrica</td>\n",
       "      <td>VIAVAREJO|VIA VAREJO</td>\n",
       "      <td>CSAB</td>\n",
       "    </tr>\n",
       "    <tr>\n",
       "      <th>freq</th>\n",
       "      <td>84</td>\n",
       "      <td>57</td>\n",
       "      <td>57</td>\n",
       "      <td>1</td>\n",
       "      <td>1</td>\n",
       "    </tr>\n",
       "  </tbody>\n",
       "</table>\n",
       "</div>"
      ],
      "text/plain": [
       "        SETOR ECONÔMICO          SUBSETOR          SEGMENTO  \\\n",
       "count               423               423               422   \n",
       "unique               11                41                81   \n",
       "top     Consumo Cíclico  Energia Elétrica  Energia Elétrica   \n",
       "freq                 84                57                57   \n",
       "\n",
       "             NOME DA EMPRESA CÓDIGO  \n",
       "count                    423    423  \n",
       "unique                   423    423  \n",
       "top     VIAVAREJO|VIA VAREJO   CSAB  \n",
       "freq                       1      1  "
      ]
     },
     "execution_count": 29,
     "metadata": {},
     "output_type": "execute_result"
    }
   ],
   "source": [
    "df_b3_companies.describe()"
   ]
  },
  {
   "cell_type": "markdown",
   "metadata": {},
   "source": [
    "* Mostre quais são todos os segmentos no arquivo de empresas da B3"
   ]
  },
  {
   "cell_type": "code",
   "execution_count": 30,
   "metadata": {
    "scrolled": true
   },
   "outputs": [
    {
     "data": {
      "text/plain": [
       "array(['Exploração, Refino e Distribuição', 'Minerais Metálicos',\n",
       "       'Siderurgia', 'Artefatos de Ferro e Aço', 'Artefatos de Cobre',\n",
       "       'Petroquímicos', 'Fertilizantes e Defensivos', 'Químicos Diversos',\n",
       "       'Madeira', 'Papel e Celulose', 'Embalagens', 'Materiais Diversos',\n",
       "       'Produtos para Construção', 'Construção Pesada',\n",
       "       'Engenharia Consultiva', 'Serviços Diversos',\n",
       "       'Material Aeronáutico e de Defesa', 'Material Rodoviário',\n",
       "       'Motores, Compressores e Outros', 'Máq. e Equip. Industriais',\n",
       "       'Máq. e Equip. Construção e Agrícolas', 'Armas e Munições',\n",
       "       'Transporte Aéreo', 'Transporte Ferroviário',\n",
       "       'Transporte Hidroviário', 'Transporte Rodoviário',\n",
       "       'Exploração de Rodovias', 'Serviços de Apoio e Armazenagem',\n",
       "       'Material de Transporte', 'Agricultura', 'Açucar e Alcool',\n",
       "       'Carnes e Derivados', 'Alimentos Diversos',\n",
       "       'Cervejas e Refrigerantes', 'Produtos de Uso Pessoal',\n",
       "       'Produtos de Limpeza', 'Alimentos', 'Incorporações',\n",
       "       'Fios e Tecidos', 'Vestuário', 'Calçados', 'Acessórios',\n",
       "       'Eletrodomésticos', 'Móveis', 'Utensílios Domésticos',\n",
       "       'Automóveis e Motocicletas', 'Hotelaria',\n",
       "       'Restaurante e Similares', 'Bicicletas', 'Brinquedos e Jogos',\n",
       "       'Produção de Eventos e Shows', 'Viagens e Turismo',\n",
       "       'Atividades Esportivas', 'Serviços Educacionais',\n",
       "       'Aluguel de carros', 'Programas de Fidelização',\n",
       "       'Tecidos, Vestuário e Calçados', 'Produtos Diversos',\n",
       "       'Medicamentos e Outros Produtos',\n",
       "       'Serviços Médico - Hospitalares, Análises e Diagnósticos',\n",
       "       'Equipamentos', 'Computadores e Equipamentos',\n",
       "       'Programas e Serviços', 'Telecomunicações',\n",
       "       'Produção e Difusão de Filmes e Programas', 'Energia Elétrica',\n",
       "       'Água e Saneamento', 'Gás', 'Bancos',\n",
       "       'Soc. Crédito e Financiamento', 'Soc. Arrendamento Mercantil',\n",
       "       'Securitizadoras de Recebíveis', nan,\n",
       "       'Gestão de Recursos e Investimentos',\n",
       "       'Serviços Financeiros Diversos', 'Seguradoras',\n",
       "       'Corretoras de Seguros', 'Exploração de Imóveis',\n",
       "       'Intermediação Imobiliária', 'Holdings Diversificadas',\n",
       "       'Outros Títulos', 'Outros'], dtype=object)"
      ]
     },
     "execution_count": 30,
     "metadata": {},
     "output_type": "execute_result"
    }
   ],
   "source": [
    "df_b3_companies['SEGMENTO'].unique()"
   ]
  },
  {
   "cell_type": "markdown",
   "metadata": {},
   "source": [
    "* Selecione todas as empresas do segmento de \"Agricultura\""
   ]
  },
  {
   "cell_type": "code",
   "execution_count": 82,
   "metadata": {},
   "outputs": [
    {
     "data": {
      "text/html": [
       "<div>\n",
       "<style scoped>\n",
       "    .dataframe tbody tr th:only-of-type {\n",
       "        vertical-align: middle;\n",
       "    }\n",
       "\n",
       "    .dataframe tbody tr th {\n",
       "        vertical-align: top;\n",
       "    }\n",
       "\n",
       "    .dataframe thead th {\n",
       "        text-align: right;\n",
       "    }\n",
       "</style>\n",
       "<table border=\"1\" class=\"dataframe\">\n",
       "  <thead>\n",
       "    <tr style=\"text-align: right;\">\n",
       "      <th></th>\n",
       "      <th>SETOR ECONÔMICO</th>\n",
       "      <th>SUBSETOR</th>\n",
       "      <th>SEGMENTO</th>\n",
       "      <th>NOME DA EMPRESA</th>\n",
       "      <th>CÓDIGO</th>\n",
       "    </tr>\n",
       "  </thead>\n",
       "  <tbody>\n",
       "    <tr>\n",
       "      <th>114</th>\n",
       "      <td>Consumo não Cíclico</td>\n",
       "      <td>Agropecuária</td>\n",
       "      <td>Agricultura</td>\n",
       "      <td>ALIPERTI</td>\n",
       "      <td>APTI</td>\n",
       "    </tr>\n",
       "    <tr>\n",
       "      <th>115</th>\n",
       "      <td>Consumo não Cíclico</td>\n",
       "      <td>Agropecuária</td>\n",
       "      <td>Agricultura</td>\n",
       "      <td>BRASILAGRO</td>\n",
       "      <td>AGRO</td>\n",
       "    </tr>\n",
       "    <tr>\n",
       "      <th>116</th>\n",
       "      <td>Consumo não Cíclico</td>\n",
       "      <td>Agropecuária</td>\n",
       "      <td>Agricultura</td>\n",
       "      <td>POMIFRUTAS</td>\n",
       "      <td>FRTA</td>\n",
       "    </tr>\n",
       "    <tr>\n",
       "      <th>117</th>\n",
       "      <td>Consumo não Cíclico</td>\n",
       "      <td>Agropecuária</td>\n",
       "      <td>Agricultura</td>\n",
       "      <td>SLC AGRICOLA|SLC</td>\n",
       "      <td>SLCE</td>\n",
       "    </tr>\n",
       "    <tr>\n",
       "      <th>118</th>\n",
       "      <td>Consumo não Cíclico</td>\n",
       "      <td>Agropecuária</td>\n",
       "      <td>Agricultura</td>\n",
       "      <td>TERRA SANTA</td>\n",
       "      <td>TESA</td>\n",
       "    </tr>\n",
       "  </tbody>\n",
       "</table>\n",
       "</div>"
      ],
      "text/plain": [
       "         SETOR ECONÔMICO      SUBSETOR     SEGMENTO   NOME DA EMPRESA CÓDIGO\n",
       "114  Consumo não Cíclico  Agropecuária  Agricultura          ALIPERTI   APTI\n",
       "115  Consumo não Cíclico  Agropecuária  Agricultura        BRASILAGRO   AGRO\n",
       "116  Consumo não Cíclico  Agropecuária  Agricultura        POMIFRUTAS   FRTA\n",
       "117  Consumo não Cíclico  Agropecuária  Agricultura  SLC AGRICOLA|SLC   SLCE\n",
       "118  Consumo não Cíclico  Agropecuária  Agricultura       TERRA SANTA   TESA"
      ]
     },
     "execution_count": 82,
     "metadata": {},
     "output_type": "execute_result"
    }
   ],
   "source": [
    "df_b3_companies[df_b3_companies['SEGMENTO'] == 'Agricultura']"
   ]
  },
  {
   "cell_type": "markdown",
   "metadata": {},
   "source": [
    "* Selecione as empresas do subsetor \"Petróleo, Gás e Biocombustíveis\" **OU** do segmento \"Bancos\""
   ]
  },
  {
   "cell_type": "code",
   "execution_count": 85,
   "metadata": {
    "scrolled": true
   },
   "outputs": [
    {
     "data": {
      "text/html": [
       "<div>\n",
       "<style scoped>\n",
       "    .dataframe tbody tr th:only-of-type {\n",
       "        vertical-align: middle;\n",
       "    }\n",
       "\n",
       "    .dataframe tbody tr th {\n",
       "        vertical-align: top;\n",
       "    }\n",
       "\n",
       "    .dataframe thead th {\n",
       "        text-align: right;\n",
       "    }\n",
       "</style>\n",
       "<table border=\"1\" class=\"dataframe\">\n",
       "  <thead>\n",
       "    <tr style=\"text-align: right;\">\n",
       "      <th></th>\n",
       "      <th>SETOR ECONÔMICO</th>\n",
       "      <th>SUBSETOR</th>\n",
       "      <th>SEGMENTO</th>\n",
       "      <th>NOME DA EMPRESA</th>\n",
       "      <th>CÓDIGO</th>\n",
       "    </tr>\n",
       "  </thead>\n",
       "  <tbody>\n",
       "    <tr>\n",
       "      <th>0</th>\n",
       "      <td>Petróleo, Gás e Biocombustíveis</td>\n",
       "      <td>Petróleo, Gás e Biocombustíveis</td>\n",
       "      <td>Exploração, Refino e Distribuição</td>\n",
       "      <td>COSAN</td>\n",
       "      <td>CSAN</td>\n",
       "    </tr>\n",
       "    <tr>\n",
       "      <th>1</th>\n",
       "      <td>Petróleo, Gás e Biocombustíveis</td>\n",
       "      <td>Petróleo, Gás e Biocombustíveis</td>\n",
       "      <td>Exploração, Refino e Distribuição</td>\n",
       "      <td>DOMMO</td>\n",
       "      <td>DMMO</td>\n",
       "    </tr>\n",
       "    <tr>\n",
       "      <th>2</th>\n",
       "      <td>Petróleo, Gás e Biocombustíveis</td>\n",
       "      <td>Petróleo, Gás e Biocombustíveis</td>\n",
       "      <td>Exploração, Refino e Distribuição</td>\n",
       "      <td>ENAUTA PART|ENAUTA</td>\n",
       "      <td>ENAT</td>\n",
       "    </tr>\n",
       "    <tr>\n",
       "      <th>3</th>\n",
       "      <td>Petróleo, Gás e Biocombustíveis</td>\n",
       "      <td>Petróleo, Gás e Biocombustíveis</td>\n",
       "      <td>Exploração, Refino e Distribuição</td>\n",
       "      <td>PET MANGUINH</td>\n",
       "      <td>RPMG</td>\n",
       "    </tr>\n",
       "    <tr>\n",
       "      <th>4</th>\n",
       "      <td>Petróleo, Gás e Biocombustíveis</td>\n",
       "      <td>Petróleo, Gás e Biocombustíveis</td>\n",
       "      <td>Exploração, Refino e Distribuição</td>\n",
       "      <td>PETROBRAS|PETROBRÁS</td>\n",
       "      <td>PETR</td>\n",
       "    </tr>\n",
       "    <tr>\n",
       "      <th>5</th>\n",
       "      <td>Petróleo, Gás e Biocombustíveis</td>\n",
       "      <td>Petróleo, Gás e Biocombustíveis</td>\n",
       "      <td>Exploração, Refino e Distribuição</td>\n",
       "      <td>PETROBRAS BR|PETROBRAS DISTRIBUIDORA|BR DISTRI...</td>\n",
       "      <td>BRDT</td>\n",
       "    </tr>\n",
       "    <tr>\n",
       "      <th>6</th>\n",
       "      <td>Petróleo, Gás e Biocombustíveis</td>\n",
       "      <td>Petróleo, Gás e Biocombustíveis</td>\n",
       "      <td>Exploração, Refino e Distribuição</td>\n",
       "      <td>PETRORIO</td>\n",
       "      <td>PRIO</td>\n",
       "    </tr>\n",
       "    <tr>\n",
       "      <th>7</th>\n",
       "      <td>Petróleo, Gás e Biocombustíveis</td>\n",
       "      <td>Petróleo, Gás e Biocombustíveis</td>\n",
       "      <td>Exploração, Refino e Distribuição</td>\n",
       "      <td>ULTRAPAR</td>\n",
       "      <td>UGPA</td>\n",
       "    </tr>\n",
       "    <tr>\n",
       "      <th>8</th>\n",
       "      <td>Petróleo, Gás e Biocombustíveis</td>\n",
       "      <td>Petróleo, Gás e Biocombustíveis</td>\n",
       "      <td>Exploração, Refino e Distribuição</td>\n",
       "      <td>LUPATECH</td>\n",
       "      <td>LUPA</td>\n",
       "    </tr>\n",
       "    <tr>\n",
       "      <th>9</th>\n",
       "      <td>Petróleo, Gás e Biocombustíveis</td>\n",
       "      <td>Petróleo, Gás e Biocombustíveis</td>\n",
       "      <td>Exploração, Refino e Distribuição</td>\n",
       "      <td>OSX BRASIL</td>\n",
       "      <td>OSXB</td>\n",
       "    </tr>\n",
       "    <tr>\n",
       "      <th>321</th>\n",
       "      <td>Financeiro</td>\n",
       "      <td>Intermediários Financeiros</td>\n",
       "      <td>Bancos</td>\n",
       "      <td>ABC BRASIL|Banco ABC</td>\n",
       "      <td>ABCB</td>\n",
       "    </tr>\n",
       "    <tr>\n",
       "      <th>322</th>\n",
       "      <td>Financeiro</td>\n",
       "      <td>Intermediários Financeiros</td>\n",
       "      <td>Bancos</td>\n",
       "      <td>ALFA HOLDING</td>\n",
       "      <td>RPAD</td>\n",
       "    </tr>\n",
       "    <tr>\n",
       "      <th>323</th>\n",
       "      <td>Financeiro</td>\n",
       "      <td>Intermediários Financeiros</td>\n",
       "      <td>Bancos</td>\n",
       "      <td>ALFA INVEST</td>\n",
       "      <td>BRIV</td>\n",
       "    </tr>\n",
       "    <tr>\n",
       "      <th>324</th>\n",
       "      <td>Financeiro</td>\n",
       "      <td>Intermediários Financeiros</td>\n",
       "      <td>Bancos</td>\n",
       "      <td>AMAZONIA</td>\n",
       "      <td>BAZA</td>\n",
       "    </tr>\n",
       "    <tr>\n",
       "      <th>325</th>\n",
       "      <td>Financeiro</td>\n",
       "      <td>Intermediários Financeiros</td>\n",
       "      <td>Bancos</td>\n",
       "      <td>BANCO BMG|BMG</td>\n",
       "      <td>BMGB</td>\n",
       "    </tr>\n",
       "    <tr>\n",
       "      <th>326</th>\n",
       "      <td>Financeiro</td>\n",
       "      <td>Intermediários Financeiros</td>\n",
       "      <td>Bancos</td>\n",
       "      <td>BANCO INTER</td>\n",
       "      <td>BIDI</td>\n",
       "    </tr>\n",
       "    <tr>\n",
       "      <th>327</th>\n",
       "      <td>Financeiro</td>\n",
       "      <td>Intermediários Financeiros</td>\n",
       "      <td>Bancos</td>\n",
       "      <td>BANCO PAN</td>\n",
       "      <td>BPAN</td>\n",
       "    </tr>\n",
       "    <tr>\n",
       "      <th>328</th>\n",
       "      <td>Financeiro</td>\n",
       "      <td>Intermediários Financeiros</td>\n",
       "      <td>Bancos</td>\n",
       "      <td>BANESE</td>\n",
       "      <td>BGIP</td>\n",
       "    </tr>\n",
       "    <tr>\n",
       "      <th>329</th>\n",
       "      <td>Financeiro</td>\n",
       "      <td>Intermediários Financeiros</td>\n",
       "      <td>Bancos</td>\n",
       "      <td>BANESTES</td>\n",
       "      <td>BEES</td>\n",
       "    </tr>\n",
       "    <tr>\n",
       "      <th>330</th>\n",
       "      <td>Financeiro</td>\n",
       "      <td>Intermediários Financeiros</td>\n",
       "      <td>Bancos</td>\n",
       "      <td>BANPARA</td>\n",
       "      <td>BPAR</td>\n",
       "    </tr>\n",
       "    <tr>\n",
       "      <th>331</th>\n",
       "      <td>Financeiro</td>\n",
       "      <td>Intermediários Financeiros</td>\n",
       "      <td>Bancos</td>\n",
       "      <td>BANRISUL</td>\n",
       "      <td>BRSR</td>\n",
       "    </tr>\n",
       "    <tr>\n",
       "      <th>332</th>\n",
       "      <td>Financeiro</td>\n",
       "      <td>Intermediários Financeiros</td>\n",
       "      <td>Bancos</td>\n",
       "      <td>BRADESCO</td>\n",
       "      <td>BBDC</td>\n",
       "    </tr>\n",
       "    <tr>\n",
       "      <th>333</th>\n",
       "      <td>Financeiro</td>\n",
       "      <td>Intermediários Financeiros</td>\n",
       "      <td>Bancos</td>\n",
       "      <td>BANCO DO BRASIL|BANCODOBRASIL</td>\n",
       "      <td>BBAS</td>\n",
       "    </tr>\n",
       "    <tr>\n",
       "      <th>334</th>\n",
       "      <td>Financeiro</td>\n",
       "      <td>Intermediários Financeiros</td>\n",
       "      <td>Bancos</td>\n",
       "      <td>BRB BANCO</td>\n",
       "      <td>BSLI</td>\n",
       "    </tr>\n",
       "    <tr>\n",
       "      <th>335</th>\n",
       "      <td>Financeiro</td>\n",
       "      <td>Intermediários Financeiros</td>\n",
       "      <td>Bancos</td>\n",
       "      <td>banco BTG|BTGP BANCO|BTG PACTUAL|BTG</td>\n",
       "      <td>BPAC</td>\n",
       "    </tr>\n",
       "    <tr>\n",
       "      <th>336</th>\n",
       "      <td>Financeiro</td>\n",
       "      <td>Intermediários Financeiros</td>\n",
       "      <td>Bancos</td>\n",
       "      <td>INDUSVAL</td>\n",
       "      <td>IDVL</td>\n",
       "    </tr>\n",
       "    <tr>\n",
       "      <th>337</th>\n",
       "      <td>Financeiro</td>\n",
       "      <td>Intermediários Financeiros</td>\n",
       "      <td>Bancos</td>\n",
       "      <td>ITAUSA|Itaúsa</td>\n",
       "      <td>ITSA</td>\n",
       "    </tr>\n",
       "    <tr>\n",
       "      <th>338</th>\n",
       "      <td>Financeiro</td>\n",
       "      <td>Intermediários Financeiros</td>\n",
       "      <td>Bancos</td>\n",
       "      <td>ITAUUNIBANCO|ITAU BBA|ITAÚ BBA|ITAU|ITAÚ</td>\n",
       "      <td>ITUB</td>\n",
       "    </tr>\n",
       "    <tr>\n",
       "      <th>339</th>\n",
       "      <td>Financeiro</td>\n",
       "      <td>Intermediários Financeiros</td>\n",
       "      <td>Bancos</td>\n",
       "      <td>MERC BRASIL</td>\n",
       "      <td>BMEB</td>\n",
       "    </tr>\n",
       "    <tr>\n",
       "      <th>340</th>\n",
       "      <td>Financeiro</td>\n",
       "      <td>Intermediários Financeiros</td>\n",
       "      <td>Bancos</td>\n",
       "      <td>MERC INVEST</td>\n",
       "      <td>BMIN</td>\n",
       "    </tr>\n",
       "    <tr>\n",
       "      <th>341</th>\n",
       "      <td>Financeiro</td>\n",
       "      <td>Intermediários Financeiros</td>\n",
       "      <td>Bancos</td>\n",
       "      <td>NORD BRASIL</td>\n",
       "      <td>BNBR</td>\n",
       "    </tr>\n",
       "    <tr>\n",
       "      <th>342</th>\n",
       "      <td>Financeiro</td>\n",
       "      <td>Intermediários Financeiros</td>\n",
       "      <td>Bancos</td>\n",
       "      <td>PARANA</td>\n",
       "      <td>PRBC</td>\n",
       "    </tr>\n",
       "    <tr>\n",
       "      <th>343</th>\n",
       "      <td>Financeiro</td>\n",
       "      <td>Intermediários Financeiros</td>\n",
       "      <td>Bancos</td>\n",
       "      <td>PINE</td>\n",
       "      <td>PINE</td>\n",
       "    </tr>\n",
       "    <tr>\n",
       "      <th>344</th>\n",
       "      <td>Financeiro</td>\n",
       "      <td>Intermediários Financeiros</td>\n",
       "      <td>Bancos</td>\n",
       "      <td>SANTANDER BRASIL|SANTANDER|Santander</td>\n",
       "      <td>SANB</td>\n",
       "    </tr>\n",
       "  </tbody>\n",
       "</table>\n",
       "</div>"
      ],
      "text/plain": [
       "                     SETOR ECONÔMICO                         SUBSETOR  \\\n",
       "0    Petróleo, Gás e Biocombustíveis  Petróleo, Gás e Biocombustíveis   \n",
       "1    Petróleo, Gás e Biocombustíveis  Petróleo, Gás e Biocombustíveis   \n",
       "2    Petróleo, Gás e Biocombustíveis  Petróleo, Gás e Biocombustíveis   \n",
       "3    Petróleo, Gás e Biocombustíveis  Petróleo, Gás e Biocombustíveis   \n",
       "4    Petróleo, Gás e Biocombustíveis  Petróleo, Gás e Biocombustíveis   \n",
       "5    Petróleo, Gás e Biocombustíveis  Petróleo, Gás e Biocombustíveis   \n",
       "6    Petróleo, Gás e Biocombustíveis  Petróleo, Gás e Biocombustíveis   \n",
       "7    Petróleo, Gás e Biocombustíveis  Petróleo, Gás e Biocombustíveis   \n",
       "8    Petróleo, Gás e Biocombustíveis  Petróleo, Gás e Biocombustíveis   \n",
       "9    Petróleo, Gás e Biocombustíveis  Petróleo, Gás e Biocombustíveis   \n",
       "321                       Financeiro       Intermediários Financeiros   \n",
       "322                       Financeiro       Intermediários Financeiros   \n",
       "323                       Financeiro       Intermediários Financeiros   \n",
       "324                       Financeiro       Intermediários Financeiros   \n",
       "325                       Financeiro       Intermediários Financeiros   \n",
       "326                       Financeiro       Intermediários Financeiros   \n",
       "327                       Financeiro       Intermediários Financeiros   \n",
       "328                       Financeiro       Intermediários Financeiros   \n",
       "329                       Financeiro       Intermediários Financeiros   \n",
       "330                       Financeiro       Intermediários Financeiros   \n",
       "331                       Financeiro       Intermediários Financeiros   \n",
       "332                       Financeiro       Intermediários Financeiros   \n",
       "333                       Financeiro       Intermediários Financeiros   \n",
       "334                       Financeiro       Intermediários Financeiros   \n",
       "335                       Financeiro       Intermediários Financeiros   \n",
       "336                       Financeiro       Intermediários Financeiros   \n",
       "337                       Financeiro       Intermediários Financeiros   \n",
       "338                       Financeiro       Intermediários Financeiros   \n",
       "339                       Financeiro       Intermediários Financeiros   \n",
       "340                       Financeiro       Intermediários Financeiros   \n",
       "341                       Financeiro       Intermediários Financeiros   \n",
       "342                       Financeiro       Intermediários Financeiros   \n",
       "343                       Financeiro       Intermediários Financeiros   \n",
       "344                       Financeiro       Intermediários Financeiros   \n",
       "\n",
       "                              SEGMENTO  \\\n",
       "0    Exploração, Refino e Distribuição   \n",
       "1    Exploração, Refino e Distribuição   \n",
       "2    Exploração, Refino e Distribuição   \n",
       "3    Exploração, Refino e Distribuição   \n",
       "4    Exploração, Refino e Distribuição   \n",
       "5    Exploração, Refino e Distribuição   \n",
       "6    Exploração, Refino e Distribuição   \n",
       "7    Exploração, Refino e Distribuição   \n",
       "8    Exploração, Refino e Distribuição   \n",
       "9    Exploração, Refino e Distribuição   \n",
       "321                             Bancos   \n",
       "322                             Bancos   \n",
       "323                             Bancos   \n",
       "324                             Bancos   \n",
       "325                             Bancos   \n",
       "326                             Bancos   \n",
       "327                             Bancos   \n",
       "328                             Bancos   \n",
       "329                             Bancos   \n",
       "330                             Bancos   \n",
       "331                             Bancos   \n",
       "332                             Bancos   \n",
       "333                             Bancos   \n",
       "334                             Bancos   \n",
       "335                             Bancos   \n",
       "336                             Bancos   \n",
       "337                             Bancos   \n",
       "338                             Bancos   \n",
       "339                             Bancos   \n",
       "340                             Bancos   \n",
       "341                             Bancos   \n",
       "342                             Bancos   \n",
       "343                             Bancos   \n",
       "344                             Bancos   \n",
       "\n",
       "                                       NOME DA EMPRESA CÓDIGO  \n",
       "0                                                COSAN   CSAN  \n",
       "1                                                DOMMO   DMMO  \n",
       "2                                   ENAUTA PART|ENAUTA   ENAT  \n",
       "3                                         PET MANGUINH   RPMG  \n",
       "4                                  PETROBRAS|PETROBRÁS   PETR  \n",
       "5    PETROBRAS BR|PETROBRAS DISTRIBUIDORA|BR DISTRI...   BRDT  \n",
       "6                                             PETRORIO   PRIO  \n",
       "7                                             ULTRAPAR   UGPA  \n",
       "8                                             LUPATECH   LUPA  \n",
       "9                                           OSX BRASIL   OSXB  \n",
       "321                               ABC BRASIL|Banco ABC   ABCB  \n",
       "322                                       ALFA HOLDING   RPAD  \n",
       "323                                        ALFA INVEST   BRIV  \n",
       "324                                           AMAZONIA   BAZA  \n",
       "325                                      BANCO BMG|BMG   BMGB  \n",
       "326                                        BANCO INTER   BIDI  \n",
       "327                                          BANCO PAN   BPAN  \n",
       "328                                             BANESE   BGIP  \n",
       "329                                           BANESTES   BEES  \n",
       "330                                            BANPARA   BPAR  \n",
       "331                                           BANRISUL   BRSR  \n",
       "332                                           BRADESCO   BBDC  \n",
       "333                      BANCO DO BRASIL|BANCODOBRASIL   BBAS  \n",
       "334                                          BRB BANCO   BSLI  \n",
       "335               banco BTG|BTGP BANCO|BTG PACTUAL|BTG   BPAC  \n",
       "336                                           INDUSVAL   IDVL  \n",
       "337                                      ITAUSA|Itaúsa   ITSA  \n",
       "338           ITAUUNIBANCO|ITAU BBA|ITAÚ BBA|ITAU|ITAÚ   ITUB  \n",
       "339                                        MERC BRASIL   BMEB  \n",
       "340                                        MERC INVEST   BMIN  \n",
       "341                                        NORD BRASIL   BNBR  \n",
       "342                                             PARANA   PRBC  \n",
       "343                                               PINE   PINE  \n",
       "344               SANTANDER BRASIL|SANTANDER|Santander   SANB  "
      ]
     },
     "execution_count": 85,
     "metadata": {},
     "output_type": "execute_result"
    }
   ],
   "source": [
    "df_b3_companies[(df_b3_companies['SUBSETOR'] == 'Petróleo, Gás e Biocombustíveis') |\n",
    "                (df_b3_companies['SEGMENTO'] == 'Bancos')]"
   ]
  },
  {
   "cell_type": "markdown",
   "metadata": {},
   "source": [
    "* Selecione as empresas do subsetor \"Petróleo, Gás e Biocombustíveis\" **E** comecem com \"P\""
   ]
  },
  {
   "cell_type": "code",
   "execution_count": 33,
   "metadata": {},
   "outputs": [
    {
     "data": {
      "text/html": [
       "<div>\n",
       "<style scoped>\n",
       "    .dataframe tbody tr th:only-of-type {\n",
       "        vertical-align: middle;\n",
       "    }\n",
       "\n",
       "    .dataframe tbody tr th {\n",
       "        vertical-align: top;\n",
       "    }\n",
       "\n",
       "    .dataframe thead th {\n",
       "        text-align: right;\n",
       "    }\n",
       "</style>\n",
       "<table border=\"1\" class=\"dataframe\">\n",
       "  <thead>\n",
       "    <tr style=\"text-align: right;\">\n",
       "      <th></th>\n",
       "      <th>SETOR ECONÔMICO</th>\n",
       "      <th>SUBSETOR</th>\n",
       "      <th>SEGMENTO</th>\n",
       "      <th>NOME DA EMPRESA</th>\n",
       "      <th>CÓDIGO</th>\n",
       "    </tr>\n",
       "  </thead>\n",
       "  <tbody>\n",
       "    <tr>\n",
       "      <th>3</th>\n",
       "      <td>Petróleo, Gás e Biocombustíveis</td>\n",
       "      <td>Petróleo, Gás e Biocombustíveis</td>\n",
       "      <td>Exploração, Refino e Distribuição</td>\n",
       "      <td>PET MANGUINH</td>\n",
       "      <td>RPMG</td>\n",
       "    </tr>\n",
       "    <tr>\n",
       "      <th>4</th>\n",
       "      <td>Petróleo, Gás e Biocombustíveis</td>\n",
       "      <td>Petróleo, Gás e Biocombustíveis</td>\n",
       "      <td>Exploração, Refino e Distribuição</td>\n",
       "      <td>PETROBRAS|PETROBRÁS</td>\n",
       "      <td>PETR</td>\n",
       "    </tr>\n",
       "    <tr>\n",
       "      <th>5</th>\n",
       "      <td>Petróleo, Gás e Biocombustíveis</td>\n",
       "      <td>Petróleo, Gás e Biocombustíveis</td>\n",
       "      <td>Exploração, Refino e Distribuição</td>\n",
       "      <td>PETROBRAS BR|PETROBRAS DISTRIBUIDORA|BR DISTRI...</td>\n",
       "      <td>BRDT</td>\n",
       "    </tr>\n",
       "    <tr>\n",
       "      <th>6</th>\n",
       "      <td>Petróleo, Gás e Biocombustíveis</td>\n",
       "      <td>Petróleo, Gás e Biocombustíveis</td>\n",
       "      <td>Exploração, Refino e Distribuição</td>\n",
       "      <td>PETRORIO</td>\n",
       "      <td>PRIO</td>\n",
       "    </tr>\n",
       "  </tbody>\n",
       "</table>\n",
       "</div>"
      ],
      "text/plain": [
       "                   SETOR ECONÔMICO                         SUBSETOR  \\\n",
       "3  Petróleo, Gás e Biocombustíveis  Petróleo, Gás e Biocombustíveis   \n",
       "4  Petróleo, Gás e Biocombustíveis  Petróleo, Gás e Biocombustíveis   \n",
       "5  Petróleo, Gás e Biocombustíveis  Petróleo, Gás e Biocombustíveis   \n",
       "6  Petróleo, Gás e Biocombustíveis  Petróleo, Gás e Biocombustíveis   \n",
       "\n",
       "                            SEGMENTO  \\\n",
       "3  Exploração, Refino e Distribuição   \n",
       "4  Exploração, Refino e Distribuição   \n",
       "5  Exploração, Refino e Distribuição   \n",
       "6  Exploração, Refino e Distribuição   \n",
       "\n",
       "                                     NOME DA EMPRESA CÓDIGO  \n",
       "3                                       PET MANGUINH   RPMG  \n",
       "4                                PETROBRAS|PETROBRÁS   PETR  \n",
       "5  PETROBRAS BR|PETROBRAS DISTRIBUIDORA|BR DISTRI...   BRDT  \n",
       "6                                           PETRORIO   PRIO  "
      ]
     },
     "execution_count": 33,
     "metadata": {},
     "output_type": "execute_result"
    }
   ],
   "source": [
    "df_b3_companies[(df_b3_companies['SUBSETOR'] == 'Petróleo, Gás e Biocombustíveis') &\n",
    "                (df_b3_companies['NOME DA EMPRESA'].str.startswith('P'))]"
   ]
  },
  {
   "cell_type": "markdown",
   "metadata": {},
   "source": [
    "* Conte o número de empresas por cada setor econômico"
   ]
  },
  {
   "cell_type": "code",
   "execution_count": 34,
   "metadata": {},
   "outputs": [
    {
     "data": {
      "text/plain": [
       "Consumo Cíclico                    84\n",
       "Financeiro                         82\n",
       "Bens Industriais                   73\n",
       "Utilidade Pública                  65\n",
       "Materiais Básicos                  31\n",
       "Consumo não Cíclico                24\n",
       "Saúde                              21\n",
       "Outros                             20\n",
       "Petróleo, Gás e Biocombustíveis    10\n",
       "Tecnologia da Informação            7\n",
       "Comunicações                        6\n",
       "Name: SETOR ECONÔMICO, dtype: int64"
      ]
     },
     "execution_count": 34,
     "metadata": {},
     "output_type": "execute_result"
    }
   ],
   "source": [
    "df_b3_companies['SETOR ECONÔMICO'].value_counts()"
   ]
  },
  {
   "cell_type": "markdown",
   "metadata": {},
   "source": [
    "* Plote o número de empresas por setor econômico"
   ]
  },
  {
   "cell_type": "code",
   "execution_count": 35,
   "metadata": {},
   "outputs": [
    {
     "data": {
      "text/plain": [
       "<matplotlib.axes._subplots.AxesSubplot at 0x7fcc832dcac8>"
      ]
     },
     "execution_count": 35,
     "metadata": {},
     "output_type": "execute_result"
    },
    {
     "data": {
      "image/png": "[encoded data removed]",
      "text/plain": [
       "<Figure size 576x432 with 1 Axes>"
      ]
     },
     "metadata": {
      "needs_background": "light"
     },
     "output_type": "display_data"
    }
   ],
   "source": [
    "fig = plt.figure(figsize=(8,6))\n",
    "\n",
    "# group values by 'SETOR ECONÔMICO' and count the number of unique values using nunique() function\n",
    "df_b3_companies.groupby('SETOR ECONÔMICO')['CÓDIGO'].nunique().plot(kind='bar')"
   ]
  },
  {
   "cell_type": "markdown",
   "metadata": {},
   "source": [
    "### Tópico 5: Matplotlib"
   ]
  },
  {
   "cell_type": "code",
   "execution_count": 87,
   "metadata": {},
   "outputs": [
    {
     "data": {
      "text/plain": [
       "{'israel_massa': 605,\n",
       " 'isabelablima': 221,\n",
       " 'hbredda': 302,\n",
       " 'BruceBarbosa88': 409,\n",
       " 'ativacorretora': 634,\n",
       " 'sergiosanita': 328,\n",
       " 'albuquerque_af': 170,\n",
       " 'GeralNews': 220,\n",
       " 'WeInvestDigital': 1291,\n",
       " 'tradersclubbr': 2305,\n",
       " 'bernardocorazza': 214,\n",
       " 'cafecomferri': 385,\n",
       " 'FilipeVillegas': 4106,\n",
       " 'mycapinvest': 854,\n",
       " 'FastTrade_cedro': 1231}"
      ]
     },
     "execution_count": 87,
     "metadata": {},
     "output_type": "execute_result"
    }
   ],
   "source": [
    "tweets_distrib"
   ]
  },
  {
   "cell_type": "code",
   "execution_count": 98,
   "metadata": {},
   "outputs": [
    {
     "data": {
      "text/plain": [
       "[('FilipeVillegas', 4106),\n",
       " ('tradersclubbr', 2305),\n",
       " ('WeInvestDigital', 1291),\n",
       " ('FastTrade_cedro', 1231),\n",
       " ('mycapinvest', 854),\n",
       " ('ativacorretora', 634),\n",
       " ('israel_massa', 605),\n",
       " ('BruceBarbosa88', 409),\n",
       " ('cafecomferri', 385),\n",
       " ('sergiosanita', 328),\n",
       " ('hbredda', 302),\n",
       " ('isabelablima', 221),\n",
       " ('GeralNews', 220),\n",
       " ('bernardocorazza', 214),\n",
       " ('albuquerque_af', 170)]"
      ]
     },
     "execution_count": 98,
     "metadata": {},
     "output_type": "execute_result"
    }
   ],
   "source": [
    "distrib = sorted(tweets_distrib.items(), key=lambda x: x[1], reverse=True)\n",
    "distrib"
   ]
  },
  {
   "cell_type": "code",
   "execution_count": 99,
   "metadata": {},
   "outputs": [
    {
     "data": {
      "image/png": "[encoded data removed]",
      "text/plain": [
       "<Figure size 1152x432 with 1 Axes>"
      ]
     },
     "metadata": {
      "needs_background": "light"
     },
     "output_type": "display_data"
    }
   ],
   "source": [
    "distrib = sorted(tweets_distrib.items(), key=lambda x: x[1], reverse=True)\n",
    "\n",
    "keys = [item[0] for item in distrib]\n",
    "values = [item[1] for item in distrib]\n",
    "\n",
    "fig = plt.figure(figsize=(16,6))\n",
    "\n",
    "plt.bar(keys, values, color='blue')\n",
    "plt.xlabel('Profiles')\n",
    "plt.ylabel('Number of tweets')\n",
    "\n",
    "plt.xticks(list(range(len(keys))), keys, rotation=45)\n",
    "plt.show()"
   ]
  },
  {
   "cell_type": "markdown",
   "metadata": {},
   "source": [
    "**Mais Exemplos** https://matplotlib.org/gallery/index.html"
   ]
  },
  {
   "cell_type": "markdown",
   "metadata": {},
   "source": [
    "### Exercícios\n",
    "\n",
    "**1)** a) Implemente o método ``get_total_tweets()`` na classe ``Influencers`` que retorne o tamanho de sua lista de tweets"
   ]
  },
  {
   "cell_type": "code",
   "execution_count": 100,
   "metadata": {},
   "outputs": [
    {
     "ename": "AttributeError",
     "evalue": "'Influencer' object has no attribute 'get_total_tweets'",
     "output_type": "error",
     "traceback": [
      "\u001b[0;31m---------------------------------------------------------------------------\u001b[0m",
      "\u001b[0;31mAttributeError\u001b[0m                            Traceback (most recent call last)",
      "\u001b[0;32m<ipython-input-100-736d338f4395>\u001b[0m in \u001b[0;36m<module>\u001b[0;34m\u001b[0m\n\u001b[1;32m      1\u001b[0m \u001b[0minfluencer\u001b[0m \u001b[0;34m=\u001b[0m \u001b[0mInfluencer\u001b[0m\u001b[0;34m(\u001b[0m\u001b[0mprofile\u001b[0m\u001b[0;34m=\u001b[0m\u001b[0;34m'isabelablima'\u001b[0m\u001b[0;34m,\u001b[0m \u001b[0mfilepath\u001b[0m\u001b[0;34m=\u001b[0m\u001b[0;34m'./influencers/isabelablima_tweets.csv'\u001b[0m\u001b[0;34m)\u001b[0m\u001b[0;34m\u001b[0m\u001b[0;34m\u001b[0m\u001b[0m\n\u001b[1;32m      2\u001b[0m \u001b[0;34m\u001b[0m\u001b[0m\n\u001b[0;32m----> 3\u001b[0;31m \u001b[0;32massert\u001b[0m \u001b[0mlen\u001b[0m\u001b[0;34m(\u001b[0m\u001b[0minfluencer\u001b[0m\u001b[0;34m.\u001b[0m\u001b[0mtweets\u001b[0m\u001b[0;34m)\u001b[0m \u001b[0;34m==\u001b[0m \u001b[0minfluencer\u001b[0m\u001b[0;34m.\u001b[0m\u001b[0mget_total_tweets\u001b[0m\u001b[0;34m(\u001b[0m\u001b[0;34m)\u001b[0m\u001b[0;34m,\u001b[0m \u001b[0;34m'Não foi dessa vez :p'\u001b[0m\u001b[0;34m\u001b[0m\u001b[0;34m\u001b[0m\u001b[0m\n\u001b[0m\u001b[1;32m      4\u001b[0m \u001b[0mprint\u001b[0m\u001b[0;34m(\u001b[0m\u001b[0;34m'concluído!'\u001b[0m\u001b[0;34m)\u001b[0m\u001b[0;34m\u001b[0m\u001b[0;34m\u001b[0m\u001b[0m\n",
      "\u001b[0;31mAttributeError\u001b[0m: 'Influencer' object has no attribute 'get_total_tweets'"
     ]
    }
   ],
   "source": [
    "influencer = Influencer(profile='isabelablima', filepath='./influencers/isabelablima_tweets.csv')\n",
    "\n",
    "assert len(influencer.tweets) == influencer.get_total_tweets(), 'Não foi dessa vez :p'\n",
    "print('concluído!')"
   ]
  },
  {
   "cell_type": "markdown",
   "metadata": {},
   "source": [
    "b) Filtre os influencers de modo a retornar apenas aqueles que têm uma quantidade de tweets acima da média"
   ]
  },
  {
   "cell_type": "code",
   "execution_count": null,
   "metadata": {},
   "outputs": [],
   "source": []
  },
  {
   "cell_type": "markdown",
   "metadata": {},
   "source": [
    "**Resposta esperada**\n",
    "\n",
    "{'WeInvestDigital': 1291,\n",
    " 'tradersclubbr': 2305,\n",
    " 'FilipeVillegas': 4106,\n",
    " 'FastTrade_cedro': 1231}"
   ]
  },
  {
   "cell_type": "markdown",
   "metadata": {},
   "source": [
    "**2)** Considere a matriz `` matrix``, tal que ``matrix[i,j]`` indica o número de tweets do perfil ``i`` no j-ésimo batch. Calcule:\n",
    "\n",
    "a) o número médio de tweets por perfil \n",
    "\n",
    "b) o número médio de tweets em cada batch. "
   ]
  },
  {
   "cell_type": "code",
   "execution_count": null,
   "metadata": {},
   "outputs": [],
   "source": [
    "matrix = np.array([[120,200,530], \n",
    "                   [30,50,45],\n",
    "                   [130,150,140],\n",
    "                   [110,180,150],\n",
    "                   [100,110,120],\n",
    "                   [90,115,130]])"
   ]
  },
  {
   "cell_type": "markdown",
   "metadata": {},
   "source": [
    "**Valores esperados:**\n",
    "\n",
    "a) [283.33333333, 41.66666667, 140., 146.66666667, 110., 111.66666667]\n",
    "\n",
    "b) [ 96.66666667, 134.16666667, 185.83333333]"
   ]
  },
  {
   "cell_type": "markdown",
   "metadata": {},
   "source": [
    "**3)** Considere o ``df_b3_companies`` (``pandas.DataFrame``) com as informações das empresas da B3. \n",
    "\n",
    "a) calcule o total empresas do segmento \"Bancos\" \n",
    "\n",
    "b) calcule o total empresas do segmento \"Bancos\" **E** tenham nomes alternativos, isto é bancos onde o nome de empresa contenha o caracter \"|\".\n",
    "\n",
    "**Dica:** Utilize a função [pandas.Series.str.contains](https://pandas.pydata.org/pandas-docs/stable/reference/api/pandas.Series.str.contains.html)"
   ]
  },
  {
   "cell_type": "code",
   "execution_count": null,
   "metadata": {},
   "outputs": [],
   "source": []
  },
  {
   "cell_type": "markdown",
   "metadata": {},
   "source": [
    "**Valorer experados:** \n",
    "\n",
    "a) 24\n",
    "\n",
    "b) 7"
   ]
  },
  {
   "cell_type": "markdown",
   "metadata": {},
   "source": [
    "**4)** Plote o número de subsetores que cada setor econômico tem, para isso crie um gráfico de barras."
   ]
  },
  {
   "cell_type": "code",
   "execution_count": null,
   "metadata": {},
   "outputs": [],
   "source": []
  },
  {
   "cell_type": "markdown",
   "metadata": {},
   "source": [
    "**5)** Plote, usando Matplotlib, a porcentagem de tweets publicadas, em relação ao total de tweets, para cada perfil."
   ]
  },
  {
   "cell_type": "code",
   "execution_count": null,
   "metadata": {},
   "outputs": [],
   "source": []
  },
  {
   "cell_type": "markdown",
   "metadata": {},
   "source": [
    "### Referências:\n",
    "\n",
    "1 - Google/Stack OverFlow\n",
    "\n",
    "2 - [Pandas Doc](https://pandas.pydata.org/pandas-docs/stable/reference/index.html)\n",
    "\n",
    "3 - [Matplotlib Doc](https://matplotlib.org/)\n",
    "\n",
    "4 - [Numpy Doc](https://numpy.org/doc/stable/index.html)"
   ]
  }
 ],
 "metadata": {
  "kernelspec": {
   "display_name": "Python textlib",
   "language": "python",
   "name": "textlib"
  },
  "language_info": {
   "codemirror_mode": {
    "name": "ipython",
    "version": 3
   },
   "file_extension": ".py",
   "mimetype": "text/x-python",
   "name": "python",
   "nbconvert_exporter": "python",
   "pygments_lexer": "ipython3",
   "version": "3.6.10"
  }
 },
 "nbformat": 4,
 "nbformat_minor": 4
}
