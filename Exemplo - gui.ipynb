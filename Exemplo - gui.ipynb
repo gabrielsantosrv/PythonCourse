{
 "cells": [
  {
   "cell_type": "code",
   "execution_count": 1,
   "metadata": {},
   "outputs": [],
   "source": [
    "from pathlib import Path\n",
    "import sys\n",
    "import os\n",
    "#configura a origem do projeto no diretório raiz\n",
    "sys.path.append(str(Path('').absolute().parent))\n",
    "\n",
    "import pandas as pd\n",
    "import matplotlib.pyplot as plt\n",
    "import numpy as np\n",
    "\n",
    "import tweetlib.utils as utils\n",
    "from tweetlib.influencer_gui import Influencer"
   ]
  },
  {
   "cell_type": "markdown",
   "metadata": {},
   "source": [
    "### Tópico 0: conceitos básicos"
   ]
  },
  {
   "cell_type": "markdown",
   "metadata": {},
   "source": [
    "#### métodos & funções"
   ]
  },
  {
   "cell_type": "code",
   "execution_count": null,
   "metadata": {},
   "outputs": [],
   "source": [
    "def write(params):\n",
    "    print(params)\n",
    "    \n",
    "def add(a, b):\n",
    "    return a+b"
   ]
  },
  {
   "cell_type": "code",
   "execution_count": null,
   "metadata": {},
   "outputs": [],
   "source": [
    "write('Hellow World!')"
   ]
  },
  {
   "cell_type": "code",
   "execution_count": null,
   "metadata": {
    "scrolled": true
   },
   "outputs": [],
   "source": [
    "add(2, 3)"
   ]
  },
  {
   "cell_type": "markdown",
   "metadata": {},
   "source": [
    "#### listas"
   ]
  },
  {
   "cell_type": "code",
   "execution_count": null,
   "metadata": {},
   "outputs": [],
   "source": [
    "list1 = [1,2,'a',3,4,5]\n",
    "list2 = list(range(1,6))\n",
    "print(list1)\n",
    "print(list2)"
   ]
  },
  {
   "cell_type": "code",
   "execution_count": null,
   "metadata": {},
   "outputs": [],
   "source": [
    "list2.append(15)\n",
    "list2"
   ]
  },
  {
   "cell_type": "code",
   "execution_count": null,
   "metadata": {},
   "outputs": [],
   "source": [
    "list2[1] = 7\n",
    "list2"
   ]
  },
  {
   "cell_type": "markdown",
   "metadata": {},
   "source": [
    "#### tuplas"
   ]
  },
  {
   "cell_type": "code",
   "execution_count": null,
   "metadata": {},
   "outputs": [],
   "source": [
    "tuple1 = (1,2,3)\n",
    "tuple2 = tuple([1,2,3])\n",
    "print(tuple1)\n",
    "print(tuple2)"
   ]
  },
  {
   "cell_type": "markdown",
   "metadata": {},
   "source": [
    "#### conjuntos"
   ]
  },
  {
   "cell_type": "code",
   "execution_count": null,
   "metadata": {},
   "outputs": [],
   "source": [
    "set1 = {1,2,3,4}\n",
    "set2 = set([1,2,1,3,4,2,1])\n",
    "print(set1)\n",
    "print(set2)"
   ]
  },
  {
   "cell_type": "markdown",
   "metadata": {},
   "source": [
    "#### dicionários"
   ]
  },
  {
   "cell_type": "code",
   "execution_count": null,
   "metadata": {},
   "outputs": [],
   "source": [
    "dict1 = {'key1':1, 'key2':2}\n",
    "print(dict1)"
   ]
  },
  {
   "cell_type": "code",
   "execution_count": null,
   "metadata": {},
   "outputs": [],
   "source": [
    "dict1['key1']"
   ]
  },
  {
   "cell_type": "code",
   "execution_count": null,
   "metadata": {},
   "outputs": [],
   "source": [
    "dict1['key3'] = 10\n",
    "\n",
    "if dict1.get('key3') is not None:\n",
    "    print(dict1['key3'])\n",
    "    "
   ]
  },
  {
   "cell_type": "markdown",
   "metadata": {},
   "source": [
    "Lê o arquivo ``B3_companies.csv``que contém informações sobre as empresas negociadas na bolsa"
   ]
  },
  {
   "cell_type": "code",
   "execution_count": 2,
   "metadata": {
    "scrolled": true
   },
   "outputs": [
    {
     "data": {
      "text/html": [
       "<div>\n",
       "<style scoped>\n",
       "    .dataframe tbody tr th:only-of-type {\n",
       "        vertical-align: middle;\n",
       "    }\n",
       "\n",
       "    .dataframe tbody tr th {\n",
       "        vertical-align: top;\n",
       "    }\n",
       "\n",
       "    .dataframe thead th {\n",
       "        text-align: right;\n",
       "    }\n",
       "</style>\n",
       "<table border=\"1\" class=\"dataframe\">\n",
       "  <thead>\n",
       "    <tr style=\"text-align: right;\">\n",
       "      <th></th>\n",
       "      <th>SETOR ECONÔMICO</th>\n",
       "      <th>SUBSETOR</th>\n",
       "      <th>SEGMENTO</th>\n",
       "      <th>NOME DA EMPRESA</th>\n",
       "      <th>CÓDIGO</th>\n",
       "    </tr>\n",
       "  </thead>\n",
       "  <tbody>\n",
       "    <tr>\n",
       "      <th>0</th>\n",
       "      <td>Petróleo, Gás e Biocombustíveis</td>\n",
       "      <td>Petróleo, Gás e Biocombustíveis</td>\n",
       "      <td>Exploração, Refino e Distribuição</td>\n",
       "      <td>COSAN</td>\n",
       "      <td>CSAN</td>\n",
       "    </tr>\n",
       "    <tr>\n",
       "      <th>1</th>\n",
       "      <td>Petróleo, Gás e Biocombustíveis</td>\n",
       "      <td>Petróleo, Gás e Biocombustíveis</td>\n",
       "      <td>Exploração, Refino e Distribuição</td>\n",
       "      <td>DOMMO</td>\n",
       "      <td>DMMO</td>\n",
       "    </tr>\n",
       "    <tr>\n",
       "      <th>2</th>\n",
       "      <td>Petróleo, Gás e Biocombustíveis</td>\n",
       "      <td>Petróleo, Gás e Biocombustíveis</td>\n",
       "      <td>Exploração, Refino e Distribuição</td>\n",
       "      <td>ENAUTA PART|ENAUTA</td>\n",
       "      <td>ENAT</td>\n",
       "    </tr>\n",
       "    <tr>\n",
       "      <th>3</th>\n",
       "      <td>Petróleo, Gás e Biocombustíveis</td>\n",
       "      <td>Petróleo, Gás e Biocombustíveis</td>\n",
       "      <td>Exploração, Refino e Distribuição</td>\n",
       "      <td>PET MANGUINH</td>\n",
       "      <td>RPMG</td>\n",
       "    </tr>\n",
       "    <tr>\n",
       "      <th>4</th>\n",
       "      <td>Petróleo, Gás e Biocombustíveis</td>\n",
       "      <td>Petróleo, Gás e Biocombustíveis</td>\n",
       "      <td>Exploração, Refino e Distribuição</td>\n",
       "      <td>PETROBRAS|PETROBRÁS</td>\n",
       "      <td>PETR</td>\n",
       "    </tr>\n",
       "    <tr>\n",
       "      <th>...</th>\n",
       "      <td>...</td>\n",
       "      <td>...</td>\n",
       "      <td>...</td>\n",
       "      <td>...</td>\n",
       "      <td>...</td>\n",
       "    </tr>\n",
       "    <tr>\n",
       "      <th>418</th>\n",
       "      <td>Outros</td>\n",
       "      <td>Outros</td>\n",
       "      <td>Outros</td>\n",
       "      <td>POLPAR</td>\n",
       "      <td>PPAR</td>\n",
       "    </tr>\n",
       "    <tr>\n",
       "      <th>419</th>\n",
       "      <td>Outros</td>\n",
       "      <td>Outros</td>\n",
       "      <td>Outros</td>\n",
       "      <td>PROMPT PART</td>\n",
       "      <td>PRPT</td>\n",
       "    </tr>\n",
       "    <tr>\n",
       "      <th>420</th>\n",
       "      <td>Outros</td>\n",
       "      <td>Outros</td>\n",
       "      <td>Outros</td>\n",
       "      <td>SELECTPART</td>\n",
       "      <td>SLCT</td>\n",
       "    </tr>\n",
       "    <tr>\n",
       "      <th>421</th>\n",
       "      <td>Outros</td>\n",
       "      <td>Outros</td>\n",
       "      <td>Outros</td>\n",
       "      <td>SUDESTE S/A</td>\n",
       "      <td>OPSE</td>\n",
       "    </tr>\n",
       "    <tr>\n",
       "      <th>422</th>\n",
       "      <td>Outros</td>\n",
       "      <td>Outros</td>\n",
       "      <td>Outros</td>\n",
       "      <td>SUL 116 PART</td>\n",
       "      <td>OPTS</td>\n",
       "    </tr>\n",
       "  </tbody>\n",
       "</table>\n",
       "<p>423 rows × 5 columns</p>\n",
       "</div>"
      ],
      "text/plain": [
       "                     SETOR ECONÔMICO                         SUBSETOR  \\\n",
       "0    Petróleo, Gás e Biocombustíveis  Petróleo, Gás e Biocombustíveis   \n",
       "1    Petróleo, Gás e Biocombustíveis  Petróleo, Gás e Biocombustíveis   \n",
       "2    Petróleo, Gás e Biocombustíveis  Petróleo, Gás e Biocombustíveis   \n",
       "3    Petróleo, Gás e Biocombustíveis  Petróleo, Gás e Biocombustíveis   \n",
       "4    Petróleo, Gás e Biocombustíveis  Petróleo, Gás e Biocombustíveis   \n",
       "..                               ...                              ...   \n",
       "418                           Outros                           Outros   \n",
       "419                           Outros                           Outros   \n",
       "420                           Outros                           Outros   \n",
       "421                           Outros                           Outros   \n",
       "422                           Outros                           Outros   \n",
       "\n",
       "                              SEGMENTO      NOME DA EMPRESA CÓDIGO  \n",
       "0    Exploração, Refino e Distribuição                COSAN   CSAN  \n",
       "1    Exploração, Refino e Distribuição                DOMMO   DMMO  \n",
       "2    Exploração, Refino e Distribuição   ENAUTA PART|ENAUTA   ENAT  \n",
       "3    Exploração, Refino e Distribuição         PET MANGUINH   RPMG  \n",
       "4    Exploração, Refino e Distribuição  PETROBRAS|PETROBRÁS   PETR  \n",
       "..                                 ...                  ...    ...  \n",
       "418                             Outros               POLPAR   PPAR  \n",
       "419                             Outros          PROMPT PART   PRPT  \n",
       "420                             Outros           SELECTPART   SLCT  \n",
       "421                             Outros          SUDESTE S/A   OPSE  \n",
       "422                             Outros         SUL 116 PART   OPTS  \n",
       "\n",
       "[423 rows x 5 columns]"
      ]
     },
     "execution_count": 2,
     "metadata": {},
     "output_type": "execute_result"
    }
   ],
   "source": [
    "df_b3_companies = pd.read_csv('./B3_companies.csv')\n",
    "df_b3_companies"
   ]
  },
  {
   "cell_type": "markdown",
   "metadata": {},
   "source": [
    "Lista todos os nomes dos arquivos dentro do diretório ``./influencers``, que se encontra na raiz do projeto"
   ]
  },
  {
   "cell_type": "code",
   "execution_count": 3,
   "metadata": {
    "scrolled": true
   },
   "outputs": [
    {
     "data": {
      "text/plain": [
       "['albuquerque_af_tweets.csv',\n",
       " 'cafecomferri_tweets.csv',\n",
       " 'mycapinvest_tweets.csv',\n",
       " 'tradersclubbr_tweets.csv',\n",
       " 'hbredda_tweets.csv',\n",
       " 'israel_massa_tweets.csv',\n",
       " 'isabelablima_tweets.csv',\n",
       " 'FilipeVillegas_tweets.csv',\n",
       " 'GeralNews_tweets.csv',\n",
       " 'ativacorretora_tweets.csv',\n",
       " 'sergiosanita_tweets.csv',\n",
       " 'FastTrade_cedro_tweets.csv',\n",
       " 'bernardocorazza_tweets.csv',\n",
       " 'WeInvestDigital_tweets.csv',\n",
       " 'BruceBarbosa88_tweets.csv']"
      ]
     },
     "execution_count": 3,
     "metadata": {},
     "output_type": "execute_result"
    }
   ],
   "source": [
    "csv_files = os.listdir('./influencers')\n",
    "csv_files"
   ]
  },
  {
   "cell_type": "code",
   "execution_count": 4,
   "metadata": {},
   "outputs": [
    {
     "data": {
      "text/html": [
       "<div>\n",
       "<style scoped>\n",
       "    .dataframe tbody tr th:only-of-type {\n",
       "        vertical-align: middle;\n",
       "    }\n",
       "\n",
       "    .dataframe tbody tr th {\n",
       "        vertical-align: top;\n",
       "    }\n",
       "\n",
       "    .dataframe thead th {\n",
       "        text-align: right;\n",
       "    }\n",
       "</style>\n",
       "<table border=\"1\" class=\"dataframe\">\n",
       "  <thead>\n",
       "    <tr style=\"text-align: right;\">\n",
       "      <th></th>\n",
       "      <th>id</th>\n",
       "      <th>created_at</th>\n",
       "      <th>text</th>\n",
       "    </tr>\n",
       "  </thead>\n",
       "  <tbody>\n",
       "    <tr>\n",
       "      <th>0</th>\n",
       "      <td>1289277893101490176</td>\n",
       "      <td>2020-07-31 19:12:57</td>\n",
       "      <td>@Luizfrfranca Sim, escolheram</td>\n",
       "    </tr>\n",
       "    <tr>\n",
       "      <th>1</th>\n",
       "      <td>1289277608677392384</td>\n",
       "      <td>2020-07-31 19:11:50</td>\n",
       "      <td>Oferta da Vasta 15x book a 19.00 e os bancos e...</td>\n",
       "    </tr>\n",
       "    <tr>\n",
       "      <th>2</th>\n",
       "      <td>1289273387748139009</td>\n",
       "      <td>2020-07-31 18:55:03</td>\n",
       "      <td>Cialão salvou parte do dia\\n\\nPqp\\n\\nShort na ...</td>\n",
       "    </tr>\n",
       "    <tr>\n",
       "      <th>3</th>\n",
       "      <td>1289239722129149952</td>\n",
       "      <td>2020-07-31 16:41:17</td>\n",
       "      <td>Apareceu a surpresinha\\n\\n*BC DEVE AUTORIZAR T...</td>\n",
       "    </tr>\n",
       "    <tr>\n",
       "      <th>4</th>\n",
       "      <td>1289222793502920705</td>\n",
       "      <td>2020-07-31 15:34:01</td>\n",
       "      <td>Stone valendo 67 bilhões, nova máxima históric...</td>\n",
       "    </tr>\n",
       "    <tr>\n",
       "      <th>...</th>\n",
       "      <td>...</td>\n",
       "      <td>...</td>\n",
       "      <td>...</td>\n",
       "    </tr>\n",
       "    <tr>\n",
       "      <th>3217</th>\n",
       "      <td>1240994826398633984</td>\n",
       "      <td>2020-03-20 13:33:17</td>\n",
       "      <td>RT @jlbraga: @albuquerque_af Escrevi sobre iss...</td>\n",
       "    </tr>\n",
       "    <tr>\n",
       "      <th>3218</th>\n",
       "      <td>1240988946731065345</td>\n",
       "      <td>2020-03-20 13:09:56</td>\n",
       "      <td>Nunca vi o Stuba com 50% em ações. \\n\\nAlguém ...</td>\n",
       "    </tr>\n",
       "    <tr>\n",
       "      <th>3219</th>\n",
       "      <td>1240988069970534402</td>\n",
       "      <td>2020-03-20 13:06:26</td>\n",
       "      <td>5% de taxa de mortalidade\\n\\nA gripezinha da f...</td>\n",
       "    </tr>\n",
       "    <tr>\n",
       "      <th>3220</th>\n",
       "      <td>1240980276114792451</td>\n",
       "      <td>2020-03-20 12:35:28</td>\n",
       "      <td>Um dos hospitais mais respeitados do mundo adi...</td>\n",
       "    </tr>\n",
       "    <tr>\n",
       "      <th>3221</th>\n",
       "      <td>1240979450646446082</td>\n",
       "      <td>2020-03-20 12:32:11</td>\n",
       "      <td>Acho que gringos vão meter 14 x 1\\n\\nImpressio...</td>\n",
       "    </tr>\n",
       "  </tbody>\n",
       "</table>\n",
       "<p>3222 rows × 3 columns</p>\n",
       "</div>"
      ],
      "text/plain": [
       "                       id           created_at  \\\n",
       "0     1289277893101490176  2020-07-31 19:12:57   \n",
       "1     1289277608677392384  2020-07-31 19:11:50   \n",
       "2     1289273387748139009  2020-07-31 18:55:03   \n",
       "3     1289239722129149952  2020-07-31 16:41:17   \n",
       "4     1289222793502920705  2020-07-31 15:34:01   \n",
       "...                   ...                  ...   \n",
       "3217  1240994826398633984  2020-03-20 13:33:17   \n",
       "3218  1240988946731065345  2020-03-20 13:09:56   \n",
       "3219  1240988069970534402  2020-03-20 13:06:26   \n",
       "3220  1240980276114792451  2020-03-20 12:35:28   \n",
       "3221  1240979450646446082  2020-03-20 12:32:11   \n",
       "\n",
       "                                                   text  \n",
       "0                         @Luizfrfranca Sim, escolheram  \n",
       "1     Oferta da Vasta 15x book a 19.00 e os bancos e...  \n",
       "2     Cialão salvou parte do dia\\n\\nPqp\\n\\nShort na ...  \n",
       "3     Apareceu a surpresinha\\n\\n*BC DEVE AUTORIZAR T...  \n",
       "4     Stone valendo 67 bilhões, nova máxima históric...  \n",
       "...                                                 ...  \n",
       "3217  RT @jlbraga: @albuquerque_af Escrevi sobre iss...  \n",
       "3218  Nunca vi o Stuba com 50% em ações. \\n\\nAlguém ...  \n",
       "3219  5% de taxa de mortalidade\\n\\nA gripezinha da f...  \n",
       "3220  Um dos hospitais mais respeitados do mundo adi...  \n",
       "3221  Acho que gringos vão meter 14 x 1\\n\\nImpressio...  \n",
       "\n",
       "[3222 rows x 3 columns]"
      ]
     },
     "execution_count": 4,
     "metadata": {},
     "output_type": "execute_result"
    }
   ],
   "source": [
    "df = pd.read_csv('./influencers/{}'.format(csv_files[0])) \n",
    "df"
   ]
  },
  {
   "cell_type": "markdown",
   "metadata": {},
   "source": [
    "### Tópico 1: Classes"
   ]
  },
  {
   "cell_type": "markdown",
   "metadata": {},
   "source": [
    "* O método ``Incluencer.filter_tweets`` filtra os tweets de um dado ``pandas.DataFrame``, retornando apenas os tweets que falam de alguma empresa."
   ]
  },
  {
   "cell_type": "code",
   "execution_count": 5,
   "metadata": {},
   "outputs": [
    {
     "name": "stderr",
     "output_type": "stream",
     "text": [
      "/home/guilherme/.local/lib/python3.8/site-packages/pandas/core/strings.py:2001: UserWarning: This pattern has match groups. To actually get the groups, use str.extract.\n",
      "  return func(self, *args, **kwargs)\n"
     ]
    }
   ],
   "source": [
    "influencers = []\n",
    "for filename in csv_files:    \n",
    "    influencer = Influencer(profile=filename[:-11], filepath='./influencers/{}'.format(filename))\n",
    "    influencer.filter_tweets(df_b3_companies)\n",
    "    influencers.append(influencer)"
   ]
  },
  {
   "cell_type": "code",
   "execution_count": null,
   "metadata": {},
   "outputs": [],
   "source": [
    "len(influencers)"
   ]
  },
  {
   "cell_type": "code",
   "execution_count": 6,
   "metadata": {},
   "outputs": [
    {
     "data": {
      "text/plain": [
       "{'albuquerque_af': 170,\n",
       " 'cafecomferri': 385,\n",
       " 'mycapinvest': 854,\n",
       " 'tradersclubbr': 2305,\n",
       " 'hbredda': 302,\n",
       " 'israel_massa': 605,\n",
       " 'isabelablima': 221,\n",
       " 'FilipeVillegas': 4106,\n",
       " 'GeralNews': 220,\n",
       " 'ativacorretora': 634,\n",
       " 'sergiosanita': 328,\n",
       " 'FastTrade_cedro': 1231,\n",
       " 'bernardocorazza': 214,\n",
       " 'WeInvestDigital': 1291,\n",
       " 'BruceBarbosa88': 409}"
      ]
     },
     "execution_count": 6,
     "metadata": {},
     "output_type": "execute_result"
    }
   ],
   "source": [
    "tweets_distrib = {}\n",
    "for influencer in influencers:\n",
    "    tweets_distrib[influencer.profile] = len(influencer.tweets)\n",
    "    \n",
    "    \n",
    "tweets_distrib"
   ]
  },
  {
   "cell_type": "code",
   "execution_count": null,
   "metadata": {},
   "outputs": [],
   "source": [
    "tweets_distrib['tradersclubbr']"
   ]
  },
  {
   "cell_type": "markdown",
   "metadata": {},
   "source": [
    "### Tópico 2:  List/Dictionary comprehension "
   ]
  },
  {
   "cell_type": "code",
   "execution_count": null,
   "metadata": {},
   "outputs": [],
   "source": [
    "tweets_distrib_compr = {influencer.profile : len(influencer.tweets) for influencer in influencers}\n",
    "tweets_distrib_compr"
   ]
  },
  {
   "cell_type": "code",
   "execution_count": null,
   "metadata": {},
   "outputs": [],
   "source": [
    "print(tweets_distrib_compr.keys(), '\\n')\n",
    "print(tweets_distrib_compr.values())"
   ]
  },
  {
   "cell_type": "code",
   "execution_count": null,
   "metadata": {},
   "outputs": [],
   "source": [
    "print(sorted(tweets_distrib_compr.keys()), '\\n')\n",
    "print(sorted(tweets_distrib_compr.values()))"
   ]
  },
  {
   "cell_type": "markdown",
   "metadata": {},
   "source": [
    "#### Tópico 2.1: Build-in functions"
   ]
  },
  {
   "cell_type": "markdown",
   "metadata": {},
   "source": [
    "* Encontre os perfis com o maior e menor número de tweets e print eles"
   ]
  },
  {
   "cell_type": "code",
   "execution_count": null,
   "metadata": {},
   "outputs": [],
   "source": [
    "# get the max and min values\n",
    "max_value, min_value = max(tweets_distrib_compr.values()), min(tweets_distrib_compr.values())\n",
    "\n",
    "# iterate over the dictionary comparing the \n",
    "for profile, number_tweets in tweets_distrib_compr.items():\n",
    "    if number_tweets == max_value:\n",
    "        print('max', profile, number_tweets)\n",
    "    elif number_tweets == min_value:\n",
    "        print('min', profile, number_tweets)"
   ]
  },
  {
   "cell_type": "code",
   "execution_count": null,
   "metadata": {},
   "outputs": [],
   "source": [
    "for profile in tweets_distrib_compr.keys():\n",
    "    number_tweets = tweets_distrib_compr[profile]\n",
    "    \n",
    "    if number_tweets == max_value:\n",
    "        print('max', profile, number_tweets)\n",
    "    elif number_tweets == min_value:\n",
    "        print('min', profile, number_tweets)"
   ]
  },
  {
   "cell_type": "code",
   "execution_count": null,
   "metadata": {},
   "outputs": [],
   "source": [
    "tweets_distrib_compr.items()"
   ]
  },
  {
   "cell_type": "markdown",
   "metadata": {},
   "source": [
    "Refazendo o mesmo exercício, porém usando ``filter(function, iterable)``"
   ]
  },
  {
   "cell_type": "code",
   "execution_count": null,
   "metadata": {},
   "outputs": [],
   "source": [
    "def filtra(item):\n",
    "    if item[1] == max_value or item[1] == min_value:\n",
    "        return True\n",
    "    \n",
    "    return False"
   ]
  },
  {
   "cell_type": "code",
   "execution_count": null,
   "metadata": {},
   "outputs": [],
   "source": [
    "filtered_items = filter(lambda item: item[1] == max_value or item[1] == min_value, tweets_distrib_compr.items())\n",
    "filtered_items = list(filtered_items)\n",
    "filtered_items.sort(key=lambda x: x[1])\n",
    "print('min', filtered_items[0][0], filtered_items[0][1])\n",
    "print('max', filtered_items[1][0], filtered_items[1][1])"
   ]
  },
  {
   "cell_type": "code",
   "execution_count": null,
   "metadata": {},
   "outputs": [],
   "source": [
    "filtered_items[0][0]"
   ]
  },
  {
   "cell_type": "code",
   "execution_count": null,
   "metadata": {},
   "outputs": [],
   "source": [
    "filtered_items = sorted(filtered_items)"
   ]
  },
  {
   "cell_type": "markdown",
   "metadata": {},
   "source": [
    "* calcule o número total de tweets, ou seja, a soma dos número de tweets por perfil"
   ]
  },
  {
   "cell_type": "code",
   "execution_count": null,
   "metadata": {},
   "outputs": [],
   "source": [
    "#iterative form\n",
    "total = 0\n",
    "for n in tweets_distrib_compr.values():\n",
    "    total += n\n",
    "print('Número total de tweets é', total)\n",
    "\n",
    "\n",
    "# using build-in functions\n",
    "total2 = sum(tweets_distrib_compr.values())\n",
    "print('Número total de tweets é', total2)"
   ]
  },
  {
   "cell_type": "markdown",
   "metadata": {},
   "source": [
    "### Tópico 3: Numpy\n",
    "\n",
    "* Printando Estatísticas"
   ]
  },
  {
   "cell_type": "code",
   "execution_count": null,
   "metadata": {},
   "outputs": [],
   "source": [
    "# Corrija o erro abaixo e print as estatísticas sobre o número de tweets por perfil\n",
    "number_tweets = list(tweets_distrib_compr.values())\n",
    "number_tweets = np.array(number_tweets)\n",
    "\n",
    "print('Max', number_tweets.max(), 'Min', number_tweets.min())\n",
    "print('Mean', number_tweets.mean(), 'Standard Deviation', number_tweets.std())"
   ]
  },
  {
   "cell_type": "markdown",
   "metadata": {},
   "source": [
    "* Encontre a probabilidade de se escolher um tweet ao acaso e ele ser de cada um dos perfis. \n",
    "\n",
    "**Dica**: Divida o número de tweets por perfil pelo número total de tweets"
   ]
  },
  {
   "cell_type": "code",
   "execution_count": null,
   "metadata": {},
   "outputs": [],
   "source": [
    "number_tweets.sum()"
   ]
  },
  {
   "cell_type": "code",
   "execution_count": null,
   "metadata": {},
   "outputs": [],
   "source": [
    "number_tweets"
   ]
  },
  {
   "cell_type": "code",
   "execution_count": null,
   "metadata": {},
   "outputs": [],
   "source": [
    "probs = number_tweets/number_tweets.sum()\n",
    "print(probs.shape, probs)"
   ]
  },
  {
   "cell_type": "markdown",
   "metadata": {},
   "source": [
    "* Encontre a probabilidade de se escolher 2 tweets ao acaso e eles serem dos perfis i e j, para todo i,j\n",
    "\n",
    "Assuma *P(i, j) = P(i).P(j)*"
   ]
  },
  {
   "cell_type": "code",
   "execution_count": null,
   "metadata": {},
   "outputs": [],
   "source": [
    "print(probs)\n",
    "probs*probs"
   ]
  },
  {
   "cell_type": "code",
   "execution_count": null,
   "metadata": {
    "scrolled": true
   },
   "outputs": [],
   "source": [
    "joint_probs = np.outer(probs, probs)\n",
    "print(\"Probabilidade de se escolher 2 tweets do perfil 0\", joint_probs[0,0])\n",
    "print(\"Probabilidade de se escolher 1 tweet do perfil 5 e outro do perfil 7\", joint_probs[5,7])\n",
    "print(joint_probs.shape)\n",
    "joint_probs"
   ]
  },
  {
   "cell_type": "markdown",
   "metadata": {},
   "source": [
    "Outra forma de se resolver esse problema"
   ]
  },
  {
   "cell_type": "code",
   "execution_count": null,
   "metadata": {},
   "outputs": [],
   "source": [
    "a = probs.reshape((1,-1))\n",
    "a"
   ]
  },
  {
   "cell_type": "code",
   "execution_count": null,
   "metadata": {
    "scrolled": true
   },
   "outputs": [],
   "source": [
    "joint_probs = probs.reshape((1,-1))\n",
    "joint_probs.T*joint_probs"
   ]
  },
  {
   "cell_type": "code",
   "execution_count": null,
   "metadata": {},
   "outputs": [],
   "source": [
    "joint_probs[5:7, 10:13]"
   ]
  },
  {
   "cell_type": "code",
   "execution_count": null,
   "metadata": {},
   "outputs": [],
   "source": [
    "matrix = np.array([[3,6,8,2,1], [5,2,1,8,7], [4,9,6,0,1]])\n",
    "matrix"
   ]
  },
  {
   "cell_type": "markdown",
   "metadata": {},
   "source": [
    "Retorna o valor máximo por colunas"
   ]
  },
  {
   "cell_type": "code",
   "execution_count": null,
   "metadata": {},
   "outputs": [],
   "source": [
    "matrix.max(axis=0)"
   ]
  },
  {
   "cell_type": "markdown",
   "metadata": {},
   "source": [
    "Retorna o valor máximo por linhas"
   ]
  },
  {
   "cell_type": "code",
   "execution_count": null,
   "metadata": {},
   "outputs": [],
   "source": [
    "matrix.max(axis=1)"
   ]
  },
  {
   "cell_type": "markdown",
   "metadata": {},
   "source": [
    "### Tópico 4: Pandas"
   ]
  },
  {
   "cell_type": "code",
   "execution_count": null,
   "metadata": {},
   "outputs": [],
   "source": [
    "df_b3_companies.head(5)"
   ]
  },
  {
   "cell_type": "code",
   "execution_count": null,
   "metadata": {},
   "outputs": [],
   "source": [
    "df_b3_companies.tail(10)"
   ]
  },
  {
   "cell_type": "code",
   "execution_count": null,
   "metadata": {},
   "outputs": [],
   "source": [
    "df_b3_companies.describe()"
   ]
  },
  {
   "cell_type": "markdown",
   "metadata": {},
   "source": [
    "* Mostre quais são todos os segmentos no arquivo de empresas da B3"
   ]
  },
  {
   "cell_type": "code",
   "execution_count": null,
   "metadata": {
    "scrolled": true
   },
   "outputs": [],
   "source": [
    "df_b3_companies['SEGMENTO'].unique()"
   ]
  },
  {
   "cell_type": "markdown",
   "metadata": {},
   "source": [
    "* Selecione todas as empresas do segmento de \"Agricultura\""
   ]
  },
  {
   "cell_type": "code",
   "execution_count": null,
   "metadata": {},
   "outputs": [],
   "source": [
    "df_b3_companies[df_b3_companies['SEGMENTO'] == 'Agricultura']"
   ]
  },
  {
   "cell_type": "markdown",
   "metadata": {},
   "source": [
    "* Selecione as empresas do subsetor \"Petróleo, Gás e Biocombustíveis\" **OU** do segmento \"Bancos\""
   ]
  },
  {
   "cell_type": "code",
   "execution_count": null,
   "metadata": {
    "scrolled": true
   },
   "outputs": [],
   "source": [
    "df_b3_companies[(df_b3_companies['SUBSETOR'] == 'Petróleo, Gás e Biocombustíveis') |\n",
    "                (df_b3_companies['SEGMENTO'] == 'Bancos')]"
   ]
  },
  {
   "cell_type": "markdown",
   "metadata": {},
   "source": [
    "* Selecione as empresas do subsetor \"Petróleo, Gás e Biocombustíveis\" **E** comecem com \"P\""
   ]
  },
  {
   "cell_type": "code",
   "execution_count": null,
   "metadata": {},
   "outputs": [],
   "source": [
    "df_b3_companies[(df_b3_companies['SUBSETOR'] == 'Petróleo, Gás e Biocombustíveis') &\n",
    "                (df_b3_companies['NOME DA EMPRESA'].str.startswith('P'))]"
   ]
  },
  {
   "cell_type": "markdown",
   "metadata": {},
   "source": [
    "* Conte o número de empresas por cada setor econômico"
   ]
  },
  {
   "cell_type": "code",
   "execution_count": null,
   "metadata": {},
   "outputs": [],
   "source": [
    "df_b3_companies['SETOR ECONÔMICO'].value_counts()"
   ]
  },
  {
   "cell_type": "markdown",
   "metadata": {},
   "source": [
    "* Plote o número de empresas por setor econômico"
   ]
  },
  {
   "cell_type": "code",
   "execution_count": null,
   "metadata": {},
   "outputs": [],
   "source": [
    "fig = plt.figure(figsize=(8,6))\n",
    "\n",
    "# group values by 'SETOR ECONÔMICO' and count the number of unique values using nunique() function\n",
    "df_b3_companies.groupby('SETOR ECONÔMICO')['CÓDIGO'].nunique().plot(kind='bar')"
   ]
  },
  {
   "cell_type": "markdown",
   "metadata": {},
   "source": [
    "### Tópico 5: Matplotlib"
   ]
  },
  {
   "cell_type": "code",
   "execution_count": null,
   "metadata": {},
   "outputs": [],
   "source": [
    "tweets_distrib"
   ]
  },
  {
   "cell_type": "code",
   "execution_count": 165,
   "metadata": {},
   "outputs": [
    {
     "data": {
      "text/plain": [
       "[('FilipeVillegas', 4106),\n",
       " ('tradersclubbr', 2305),\n",
       " ('WeInvestDigital', 1291),\n",
       " ('FastTrade_cedro', 1231),\n",
       " ('mycapinvest', 854),\n",
       " ('ativacorretora', 634),\n",
       " ('israel_massa', 605),\n",
       " ('BruceBarbosa88', 409),\n",
       " ('cafecomferri', 385),\n",
       " ('sergiosanita', 328),\n",
       " ('hbredda', 302),\n",
       " ('isabelablima', 221),\n",
       " ('GeralNews', 220),\n",
       " ('bernardocorazza', 214),\n",
       " ('albuquerque_af', 170)]"
      ]
     },
     "execution_count": 165,
     "metadata": {},
     "output_type": "execute_result"
    }
   ],
   "source": [
    "distrib = sorted(tweets_distrib.items(), key=lambda x: x[1], reverse=True)\n",
    "distrib"
   ]
  },
  {
   "cell_type": "code",
   "execution_count": 113,
   "metadata": {},
   "outputs": [
    {
     "data": {
      "image/png": "[encoded data removed]",
      "text/plain": [
       "<Figure size 1152x432 with 1 Axes>"
      ]
     },
     "metadata": {
      "needs_background": "light"
     },
     "output_type": "display_data"
    }
   ],
   "source": [
    "distrib = sorted(tweets_distrib.items(), key=lambda x: x[1], reverse=True)\n",
    "\n",
    "keys = [item[0] for item in distrib]\n",
    "values = [item[1] for item in distrib]\n",
    "\n",
    "fig = plt.figure(figsize=(16,6))\n",
    "\n",
    "plt.bar(keys, values, color='blue')\n",
    "plt.xlabel('Profiles')\n",
    "plt.ylabel('Number of tweets')\n",
    "\n",
    "plt.xticks(list(range(len(keys))), keys, rotation=45)\n",
    "plt.show()"
   ]
  },
  {
   "cell_type": "markdown",
   "metadata": {},
   "source": [
    "**Mais Exemplos** https://matplotlib.org/gallery/index.html"
   ]
  },
  {
   "cell_type": "markdown",
   "metadata": {},
   "source": [
    "### Exercícios\n",
    "\n",
    "**1)** a) Implemente o método ``get_total_tweets()`` na classe ``Influencers`` que retorne o tamanho de sua lista de tweets"
   ]
  },
  {
   "cell_type": "code",
   "execution_count": null,
   "metadata": {},
   "outputs": [],
   "source": [
    "influencer = Influencer(profile='isabelablima', filepath='./influencers/isabelablima_tweets.csv')\n",
    "\n",
    "assert len(influencer.tweets) == influencer.get_total_tweets(), 'Não foi dessa vez :p'\n",
    "print('concluído!')"
   ]
  },
  {
   "cell_type": "markdown",
   "metadata": {},
   "source": [
    "b) Filtre os influencers de modo a retornar apenas aqueles que têm uma quantidade de tweets acima da média"
   ]
  },
  {
   "cell_type": "code",
   "execution_count": null,
   "metadata": {},
   "outputs": [],
   "source": [
    "media = 0\n",
    "for perfil in tweets_distrib.keys():\n",
    "    media += tweets_distrib[perfil]\n",
    "media = media / len(tweets_distrib)\n",
    "maior_que_media = dict()\n",
    "for perfil in tweets_distrib.keys():\n",
    "    if tweets_distrib[perfil] > media:\n",
    "        maior_que_media[perfil] = tweets_distrib[perfil]\n",
    "print(maior_que_media)"
   ]
  },
  {
   "cell_type": "markdown",
   "metadata": {},
   "source": [
    "**Resposta esperada**\n",
    "\n",
    "{'WeInvestDigital': 1291,\n",
    " 'tradersclubbr': 2305,\n",
    " 'FilipeVillegas': 4106,\n",
    " 'FastTrade_cedro': 1231}"
   ]
  },
  {
   "cell_type": "markdown",
   "metadata": {},
   "source": [
    "**2)** Considere a matriz `` matrix``, tal que ``matrix[i,j]`` indica o número de tweets do perfil ``i`` no j-ésimo batch. Calcule:\n",
    "\n",
    "a) o número médio de tweets por perfil \n",
    "\n",
    "b) o número médio de tweets em cada batch. "
   ]
  },
  {
   "cell_type": "code",
   "execution_count": null,
   "metadata": {},
   "outputs": [],
   "source": [
    "def media_por_perfil(matriz):\n",
    "    media_perfil = []\n",
    "    for i in range(len(matriz)):\n",
    "        soma = matriz[i].sum()/len(matriz[i])\n",
    "        media_perfil.append(soma)\n",
    "    return media_perfil\n",
    "\n",
    "def media_por_batch(matriz):\n",
    "    qtd = len(matriz.T[0])\n",
    "    resp = []\n",
    "    for i in range(len(matriz[0])):\n",
    "        resp.append(matriz.T[i].sum()/qtd)\n",
    "    return resp\n",
    "        \n",
    "        \n",
    "matrix = np.array([[120,200,530], \n",
    "                   [30,50,45],\n",
    "                   [130,150,140],\n",
    "                   [110,180,150],\n",
    "                   [100,110,120],\n",
    "                   [90,115,130]])\n",
    "\n",
    "media_perfil = media_por_perfil(matrix)\n",
    "media_batch = media_por_batch(matrix)\n",
    "print(media_perfil)\n",
    "print(media_batch)"
   ]
  },
  {
   "cell_type": "markdown",
   "metadata": {},
   "source": [
    "**Valores esperados:**\n",
    "\n",
    "a) [283.33333333, 41.66666667, 140., 146.66666667, 110., 111.66666667]\n",
    "\n",
    "b) [ 96.66666667, 134.16666667, 185.83333333]"
   ]
  },
  {
   "cell_type": "markdown",
   "metadata": {},
   "source": [
    "**3)** Considere o ``df_b3_companies`` (``pandas.DataFrame``) com as informações das empresas da B3. \n",
    "\n",
    "a) calcule o total empresas do segmento \"Bancos\" \n",
    "\n",
    "b) calcule o total empresas do segmento \"Bancos\" **E** tenham nomes alternativos, isto é bancos onde o nome de empresa contenha o caracter \"|\".\n",
    "\n",
    "**Dica:** Utilize a função [pandas.Series.str.contains](https://pandas.pydata.org/pandas-docs/stable/reference/api/pandas.Series.str.contains.html)"
   ]
  },
  {
   "cell_type": "code",
   "execution_count": null,
   "metadata": {},
   "outputs": [],
   "source": [
    "mask1 = df_b3_companies[\"SEGMENTO\"]==\"Bancos\"\n",
    "bancos = len(df_b3_companies[mask1])\n",
    "\n",
    "mask2 = (mask1) & (df_b3_companies[\"NOME DA EMPRESA\"].str.contains(\"|\", regex=False))\n",
    "print(len(df_b3_companies[mask1]))\n",
    "print(len(df_b3_companies[mask2]))"
   ]
  },
  {
   "cell_type": "markdown",
   "metadata": {},
   "source": [
    "**Valorer experados:** \n",
    "\n",
    "a) 24\n",
    "\n",
    "b) 7"
   ]
  },
  {
   "cell_type": "markdown",
   "metadata": {},
   "source": [
    "**4)** Plote o número de subsetores que cada setor econômico tem, para isso crie um gráfico de barras."
   ]
  },
  {
   "cell_type": "code",
   "execution_count": 53,
   "metadata": {},
   "outputs": [
    {
     "data": {
      "image/png": "[encoded data removed]",
      "text/plain": [
       "<Figure size 1152x432 with 1 Axes>"
      ]
     },
     "metadata": {
      "needs_background": "light"
     },
     "output_type": "display_data"
    }
   ],
   "source": [
    "setores = df_b3_companies[\"SETOR ECONÔMICO\"].unique()\n",
    "qtd_subsetores = []\n",
    "for i in range(len(setores)):\n",
    "    mask = df_b3_companies[\"SETOR ECONÔMICO\"] == setores[i]\n",
    "    qtd_subsetores.append(len(df_b3_companies[mask][\"SUBSETOR\"].unique()))\n",
    "\n",
    "# Até deu certo mas não acho que seja o melhor jeito de fazer\n",
    "grafico1 = np.array([setores, qtd_subsetores])\n",
    "grafico1 = sorted(grafico1.T, key= lambda x:x[1], reverse=True)\n",
    "grafico1 = np.array(grafico1).T\n",
    "fig2 = plt.figure(figsize=(16,6))\n",
    "plt.bar(grafico1[0], grafico1[1])\n",
    "plt.xticks(list(range(len(grafico1[0]))), grafico1[0], rotation=45)\n",
    "plt.show()"
   ]
  },
  {
   "cell_type": "markdown",
   "metadata": {},
   "source": [
    "**5)** Plote, usando Matplotlib, a porcentagem de tweets publicadas, em relação ao total de tweets, para cada perfil."
   ]
  },
  {
   "cell_type": "code",
   "execution_count": 22,
   "metadata": {},
   "outputs": [
    {
     "data": {
      "image/png": "[encoded data removed]",
      "text/plain": [
       "<Figure size 1152x432 with 1 Axes>"
      ]
     },
     "metadata": {
      "needs_background": "light"
     },
     "output_type": "display_data"
    }
   ],
   "source": [
    "total = sum(tweets_distrib.values())\n",
    "item = sorted(tweets_distrib.items(), key=lambda x: x[1], reverse=True)\n",
    "label = []\n",
    "dados = []\n",
    "\n",
    "for item in item:\n",
    "    label.append(item[0])\n",
    "    dados.append(item[1] /total)\n",
    "fig3 = plt.figure(figsize=(16,6))\n",
    "plt.bar(label, dados)\n",
    "plt.xticks(list(range(len(label))), label, rotation=45)\n",
    "plt.show()"
   ]
  },
  {
   "cell_type": "markdown",
   "metadata": {},
   "source": [
    "### Referências:\n",
    "\n",
    "1 - Google/Stack OverFlow\n",
    "\n",
    "2 - [Pandas Doc](https://pandas.pydata.org/pandas-docs/stable/reference/index.html)\n",
    "\n",
    "3 - [Matplotlib Doc](https://matplotlib.org/)\n",
    "\n",
    "4 - [Numpy Doc](https://numpy.org/doc/stable/index.html)"
   ]
  }
 ],
 "metadata": {
  "kernelspec": {
   "display_name": "Python 3",
   "language": "python",
   "name": "python3"
  },
  "language_info": {
   "codemirror_mode": {
    "name": "ipython",
    "version": 3
   },
   "file_extension": ".py",
   "mimetype": "text/x-python",
   "name": "python",
   "nbconvert_exporter": "python",
   "pygments_lexer": "ipython3",
   "version": "3.8.5"
  }
 },
 "nbformat": 4,
 "nbformat_minor": 4
}
